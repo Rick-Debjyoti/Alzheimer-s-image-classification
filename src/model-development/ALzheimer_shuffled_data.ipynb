{
  "nbformat": 4,
  "nbformat_minor": 0,
  "metadata": {
    "colab": {
      "provenance": [],
      "gpuType": "T4"
    },
    "kernelspec": {
      "name": "python3",
      "display_name": "Python 3"
    },
    "language_info": {
      "name": "python"
    },
    "accelerator": "GPU"
  },
  "cells": [
    {
      "cell_type": "code",
      "execution_count": 1,
      "metadata": {
        "id": "9zHO9fSimCyN"
      },
      "outputs": [],
      "source": [
        "## Combined data then splitted"
      ]
    },
    {
      "cell_type": "code",
      "source": [
        "# Imports\n",
        "import numpy as np\n",
        "import pandas as pd\n",
        "import matplotlib.pyplot as plt\n",
        "import seaborn as sns\n",
        "import tensorflow as tf\n",
        "import keras\n",
        "import os\n",
        "from tensorflow.keras import datasets, layers, models\n",
        "from tensorflow.keras import optimizers\n",
        "from tensorflow.keras.layers import BatchNormalization\n",
        "from keras.preprocessing.image import ImageDataGenerator as IDG\n",
        "from sklearn.model_selection import train_test_split\n",
        "from keras import regularizers, optimizers\n",
        "from keras.models import Sequential, load_model\n",
        "from keras.callbacks import EarlyStopping, ModelCheckpoint , LearningRateScheduler\n",
        "from collections import Counter\n",
        "from sklearn.model_selection import train_test_split\n",
        "from sklearn.metrics import classification_report,roc_curve, auc,confusion_matrix\n",
        "from sklearn.utils.class_weight import compute_class_weight"
      ],
      "metadata": {
        "id": "8Ag_440zm22P"
      },
      "execution_count": 2,
      "outputs": []
    },
    {
      "cell_type": "code",
      "source": [
        "from google.colab import drive\n",
        "drive.mount('/content/drive')"
      ],
      "metadata": {
        "id": "DfsLwiI2m5M4",
        "colab": {
          "base_uri": "https://localhost:8080/"
        },
        "outputId": "1d24272d-c195-4477-f2fc-20214b864a43"
      },
      "execution_count": 3,
      "outputs": [
        {
          "output_type": "stream",
          "name": "stdout",
          "text": [
            "Mounted at /content/drive\n"
          ]
        }
      ]
    },
    {
      "cell_type": "code",
      "source": [
        "!unzip /content/drive/MyDrive/all_data.zip"
      ],
      "metadata": {
        "id": "OnG_MGF_pdcl"
      },
      "execution_count": null,
      "outputs": []
    },
    {
      "cell_type": "code",
      "source": [
        "!unzip /content/drive/MyDrive/all_data_class_combined.zip"
      ],
      "metadata": {
        "id": "DcYOTLpnpzLC"
      },
      "execution_count": null,
      "outputs": []
    },
    {
      "cell_type": "code",
      "source": [
        "img_path_all= '/content/all_data'\n",
        "\n",
        "class_names = sorted(os.listdir(img_path_all))\n",
        "class_names"
      ],
      "metadata": {
        "id": "b-WsRU5wm7p3",
        "colab": {
          "base_uri": "https://localhost:8080/"
        },
        "outputId": "b4561f62-767c-4aee-851c-3092f55020e8"
      },
      "execution_count": 6,
      "outputs": [
        {
          "output_type": "execute_result",
          "data": {
            "text/plain": [
              "['.DS_Store',\n",
              " 'MildDemented',\n",
              " 'ModerateDemented',\n",
              " 'NonDemented',\n",
              " 'VeryMildDemented']"
            ]
          },
          "metadata": {},
          "execution_count": 6
        }
      ]
    },
    {
      "cell_type": "code",
      "source": [
        "df =pd.DataFrame(columns=(\"image\",\"label\"))\n",
        "for i in class_names:\n",
        "    if i != \".DS_Store\":\n",
        "        for j in os.listdir(img_path_all+ \"/\" + i):\n",
        "            df.loc[len(df.index)] = [j,i]\n",
        "df.to_csv(\"csv_file_all.csv\")"
      ],
      "metadata": {
        "id": "kifqUjhWnjbi"
      },
      "execution_count": 7,
      "outputs": []
    },
    {
      "cell_type": "code",
      "source": [
        "df.head()"
      ],
      "metadata": {
        "colab": {
          "base_uri": "https://localhost:8080/",
          "height": 204
        },
        "id": "Eb06WfosHjeo",
        "outputId": "a751b22d-8d5b-4690-8898-d8de7a1407dc"
      },
      "execution_count": 8,
      "outputs": [
        {
          "output_type": "execute_result",
          "data": {
            "text/plain": [
              "            image         label\n",
              "0  mildDem151.jpg  MildDemented\n",
              "1  mildDem694.jpg  MildDemented\n",
              "2     32 (19).jpg  MildDemented\n",
              "3  mildDem180.jpg  MildDemented\n",
              "4  mildDem614.jpg  MildDemented"
            ],
            "text/html": [
              "\n",
              "  <div id=\"df-b2790c3a-020d-4273-a21f-afe2d1b737c5\" class=\"colab-df-container\">\n",
              "    <div>\n",
              "<style scoped>\n",
              "    .dataframe tbody tr th:only-of-type {\n",
              "        vertical-align: middle;\n",
              "    }\n",
              "\n",
              "    .dataframe tbody tr th {\n",
              "        vertical-align: top;\n",
              "    }\n",
              "\n",
              "    .dataframe thead th {\n",
              "        text-align: right;\n",
              "    }\n",
              "</style>\n",
              "<table border=\"1\" class=\"dataframe\">\n",
              "  <thead>\n",
              "    <tr style=\"text-align: right;\">\n",
              "      <th></th>\n",
              "      <th>image</th>\n",
              "      <th>label</th>\n",
              "    </tr>\n",
              "  </thead>\n",
              "  <tbody>\n",
              "    <tr>\n",
              "      <th>0</th>\n",
              "      <td>mildDem151.jpg</td>\n",
              "      <td>MildDemented</td>\n",
              "    </tr>\n",
              "    <tr>\n",
              "      <th>1</th>\n",
              "      <td>mildDem694.jpg</td>\n",
              "      <td>MildDemented</td>\n",
              "    </tr>\n",
              "    <tr>\n",
              "      <th>2</th>\n",
              "      <td>32 (19).jpg</td>\n",
              "      <td>MildDemented</td>\n",
              "    </tr>\n",
              "    <tr>\n",
              "      <th>3</th>\n",
              "      <td>mildDem180.jpg</td>\n",
              "      <td>MildDemented</td>\n",
              "    </tr>\n",
              "    <tr>\n",
              "      <th>4</th>\n",
              "      <td>mildDem614.jpg</td>\n",
              "      <td>MildDemented</td>\n",
              "    </tr>\n",
              "  </tbody>\n",
              "</table>\n",
              "</div>\n",
              "    <div class=\"colab-df-buttons\">\n",
              "\n",
              "  <div class=\"colab-df-container\">\n",
              "    <button class=\"colab-df-convert\" onclick=\"convertToInteractive('df-b2790c3a-020d-4273-a21f-afe2d1b737c5')\"\n",
              "            title=\"Convert this dataframe to an interactive table.\"\n",
              "            style=\"display:none;\">\n",
              "\n",
              "  <svg xmlns=\"http://www.w3.org/2000/svg\" height=\"24px\" viewBox=\"0 -960 960 960\">\n",
              "    <path d=\"M120-120v-720h720v720H120Zm60-500h600v-160H180v160Zm220 220h160v-160H400v160Zm0 220h160v-160H400v160ZM180-400h160v-160H180v160Zm440 0h160v-160H620v160ZM180-180h160v-160H180v160Zm440 0h160v-160H620v160Z\"/>\n",
              "  </svg>\n",
              "    </button>\n",
              "\n",
              "  <style>\n",
              "    .colab-df-container {\n",
              "      display:flex;\n",
              "      gap: 12px;\n",
              "    }\n",
              "\n",
              "    .colab-df-convert {\n",
              "      background-color: #E8F0FE;\n",
              "      border: none;\n",
              "      border-radius: 50%;\n",
              "      cursor: pointer;\n",
              "      display: none;\n",
              "      fill: #1967D2;\n",
              "      height: 32px;\n",
              "      padding: 0 0 0 0;\n",
              "      width: 32px;\n",
              "    }\n",
              "\n",
              "    .colab-df-convert:hover {\n",
              "      background-color: #E2EBFA;\n",
              "      box-shadow: 0px 1px 2px rgba(60, 64, 67, 0.3), 0px 1px 3px 1px rgba(60, 64, 67, 0.15);\n",
              "      fill: #174EA6;\n",
              "    }\n",
              "\n",
              "    .colab-df-buttons div {\n",
              "      margin-bottom: 4px;\n",
              "    }\n",
              "\n",
              "    [theme=dark] .colab-df-convert {\n",
              "      background-color: #3B4455;\n",
              "      fill: #D2E3FC;\n",
              "    }\n",
              "\n",
              "    [theme=dark] .colab-df-convert:hover {\n",
              "      background-color: #434B5C;\n",
              "      box-shadow: 0px 1px 3px 1px rgba(0, 0, 0, 0.15);\n",
              "      filter: drop-shadow(0px 1px 2px rgba(0, 0, 0, 0.3));\n",
              "      fill: #FFFFFF;\n",
              "    }\n",
              "  </style>\n",
              "\n",
              "    <script>\n",
              "      const buttonEl =\n",
              "        document.querySelector('#df-b2790c3a-020d-4273-a21f-afe2d1b737c5 button.colab-df-convert');\n",
              "      buttonEl.style.display =\n",
              "        google.colab.kernel.accessAllowed ? 'block' : 'none';\n",
              "\n",
              "      async function convertToInteractive(key) {\n",
              "        const element = document.querySelector('#df-b2790c3a-020d-4273-a21f-afe2d1b737c5');\n",
              "        const dataTable =\n",
              "          await google.colab.kernel.invokeFunction('convertToInteractive',\n",
              "                                                    [key], {});\n",
              "        if (!dataTable) return;\n",
              "\n",
              "        const docLinkHtml = 'Like what you see? Visit the ' +\n",
              "          '<a target=\"_blank\" href=https://colab.research.google.com/notebooks/data_table.ipynb>data table notebook</a>'\n",
              "          + ' to learn more about interactive tables.';\n",
              "        element.innerHTML = '';\n",
              "        dataTable['output_type'] = 'display_data';\n",
              "        await google.colab.output.renderOutput(dataTable, element);\n",
              "        const docLink = document.createElement('div');\n",
              "        docLink.innerHTML = docLinkHtml;\n",
              "        element.appendChild(docLink);\n",
              "      }\n",
              "    </script>\n",
              "  </div>\n",
              "\n",
              "\n",
              "<div id=\"df-3fdac004-4579-47f1-b7e4-3d2680365499\">\n",
              "  <button class=\"colab-df-quickchart\" onclick=\"quickchart('df-3fdac004-4579-47f1-b7e4-3d2680365499')\"\n",
              "            title=\"Suggest charts\"\n",
              "            style=\"display:none;\">\n",
              "\n",
              "<svg xmlns=\"http://www.w3.org/2000/svg\" height=\"24px\"viewBox=\"0 0 24 24\"\n",
              "     width=\"24px\">\n",
              "    <g>\n",
              "        <path d=\"M19 3H5c-1.1 0-2 .9-2 2v14c0 1.1.9 2 2 2h14c1.1 0 2-.9 2-2V5c0-1.1-.9-2-2-2zM9 17H7v-7h2v7zm4 0h-2V7h2v10zm4 0h-2v-4h2v4z\"/>\n",
              "    </g>\n",
              "</svg>\n",
              "  </button>\n",
              "\n",
              "<style>\n",
              "  .colab-df-quickchart {\n",
              "      --bg-color: #E8F0FE;\n",
              "      --fill-color: #1967D2;\n",
              "      --hover-bg-color: #E2EBFA;\n",
              "      --hover-fill-color: #174EA6;\n",
              "      --disabled-fill-color: #AAA;\n",
              "      --disabled-bg-color: #DDD;\n",
              "  }\n",
              "\n",
              "  [theme=dark] .colab-df-quickchart {\n",
              "      --bg-color: #3B4455;\n",
              "      --fill-color: #D2E3FC;\n",
              "      --hover-bg-color: #434B5C;\n",
              "      --hover-fill-color: #FFFFFF;\n",
              "      --disabled-bg-color: #3B4455;\n",
              "      --disabled-fill-color: #666;\n",
              "  }\n",
              "\n",
              "  .colab-df-quickchart {\n",
              "    background-color: var(--bg-color);\n",
              "    border: none;\n",
              "    border-radius: 50%;\n",
              "    cursor: pointer;\n",
              "    display: none;\n",
              "    fill: var(--fill-color);\n",
              "    height: 32px;\n",
              "    padding: 0;\n",
              "    width: 32px;\n",
              "  }\n",
              "\n",
              "  .colab-df-quickchart:hover {\n",
              "    background-color: var(--hover-bg-color);\n",
              "    box-shadow: 0 1px 2px rgba(60, 64, 67, 0.3), 0 1px 3px 1px rgba(60, 64, 67, 0.15);\n",
              "    fill: var(--button-hover-fill-color);\n",
              "  }\n",
              "\n",
              "  .colab-df-quickchart-complete:disabled,\n",
              "  .colab-df-quickchart-complete:disabled:hover {\n",
              "    background-color: var(--disabled-bg-color);\n",
              "    fill: var(--disabled-fill-color);\n",
              "    box-shadow: none;\n",
              "  }\n",
              "\n",
              "  .colab-df-spinner {\n",
              "    border: 2px solid var(--fill-color);\n",
              "    border-color: transparent;\n",
              "    border-bottom-color: var(--fill-color);\n",
              "    animation:\n",
              "      spin 1s steps(1) infinite;\n",
              "  }\n",
              "\n",
              "  @keyframes spin {\n",
              "    0% {\n",
              "      border-color: transparent;\n",
              "      border-bottom-color: var(--fill-color);\n",
              "      border-left-color: var(--fill-color);\n",
              "    }\n",
              "    20% {\n",
              "      border-color: transparent;\n",
              "      border-left-color: var(--fill-color);\n",
              "      border-top-color: var(--fill-color);\n",
              "    }\n",
              "    30% {\n",
              "      border-color: transparent;\n",
              "      border-left-color: var(--fill-color);\n",
              "      border-top-color: var(--fill-color);\n",
              "      border-right-color: var(--fill-color);\n",
              "    }\n",
              "    40% {\n",
              "      border-color: transparent;\n",
              "      border-right-color: var(--fill-color);\n",
              "      border-top-color: var(--fill-color);\n",
              "    }\n",
              "    60% {\n",
              "      border-color: transparent;\n",
              "      border-right-color: var(--fill-color);\n",
              "    }\n",
              "    80% {\n",
              "      border-color: transparent;\n",
              "      border-right-color: var(--fill-color);\n",
              "      border-bottom-color: var(--fill-color);\n",
              "    }\n",
              "    90% {\n",
              "      border-color: transparent;\n",
              "      border-bottom-color: var(--fill-color);\n",
              "    }\n",
              "  }\n",
              "</style>\n",
              "\n",
              "  <script>\n",
              "    async function quickchart(key) {\n",
              "      const quickchartButtonEl =\n",
              "        document.querySelector('#' + key + ' button');\n",
              "      quickchartButtonEl.disabled = true;  // To prevent multiple clicks.\n",
              "      quickchartButtonEl.classList.add('colab-df-spinner');\n",
              "      try {\n",
              "        const charts = await google.colab.kernel.invokeFunction(\n",
              "            'suggestCharts', [key], {});\n",
              "      } catch (error) {\n",
              "        console.error('Error during call to suggestCharts:', error);\n",
              "      }\n",
              "      quickchartButtonEl.classList.remove('colab-df-spinner');\n",
              "      quickchartButtonEl.classList.add('colab-df-quickchart-complete');\n",
              "    }\n",
              "    (() => {\n",
              "      let quickchartButtonEl =\n",
              "        document.querySelector('#df-3fdac004-4579-47f1-b7e4-3d2680365499 button');\n",
              "      quickchartButtonEl.style.display =\n",
              "        google.colab.kernel.accessAllowed ? 'block' : 'none';\n",
              "    })();\n",
              "  </script>\n",
              "</div>\n",
              "\n",
              "    </div>\n",
              "  </div>\n"
            ]
          },
          "metadata": {},
          "execution_count": 8
        }
      ]
    },
    {
      "cell_type": "code",
      "source": [
        "# Load the CSV files\n",
        "df = pd.read_csv(\"csv_file_all.csv\")\n",
        "\n",
        "print(df['label'].value_counts())"
      ],
      "metadata": {
        "id": "PYlEwAY6nl9-",
        "colab": {
          "base_uri": "https://localhost:8080/"
        },
        "outputId": "9b4d45eb-8e1e-4f2f-db20-c3b5970ea536"
      },
      "execution_count": 9,
      "outputs": [
        {
          "output_type": "stream",
          "name": "stdout",
          "text": [
            "NonDemented         3200\n",
            "VeryMildDemented    2240\n",
            "MildDemented         896\n",
            "ModerateDemented      64\n",
            "Name: label, dtype: int64\n"
          ]
        }
      ]
    },
    {
      "cell_type": "code",
      "source": [
        "train_df, test_df = train_test_split(df, test_size=0.2, random_state=42)\n",
        "train_df, val_df = train_test_split(train_df, test_size=0.2, random_state=42)"
      ],
      "metadata": {
        "id": "aKNN4uEsn0bS"
      },
      "execution_count": 10,
      "outputs": []
    },
    {
      "cell_type": "code",
      "source": [
        "len(train_df), len(test_df) , len(val_df)"
      ],
      "metadata": {
        "colab": {
          "base_uri": "https://localhost:8080/"
        },
        "id": "1HSGAVAnn3kR",
        "outputId": "f6ecb17f-073c-48df-accd-c1eeb4242850"
      },
      "execution_count": 11,
      "outputs": [
        {
          "output_type": "execute_result",
          "data": {
            "text/plain": [
              "(4096, 1280, 1024)"
            ]
          },
          "metadata": {},
          "execution_count": 11
        }
      ]
    },
    {
      "cell_type": "code",
      "source": [
        "train_gen = IDG(rescale=1/255, horizontal_flip=True, rotation_range=20)\n",
        "\n",
        "train_images = train_gen.flow_from_dataframe(dataframe=train_df, directory='/content/all_data_class_combined/', x_col=\"image\", y_col=\"label\", class_mode=\"categorical\", shuffle=True, batch_size=16, color_mode=\"grayscale\", target_size=(176,176))\n",
        "validation_images = train_gen.flow_from_dataframe(dataframe=val_df, directory='/content/all_data_class_combined/', x_col=\"image\", y_col=\"label\", class_mode=\"categorical\", shuffle=True, batch_size=16, color_mode=\"grayscale\", target_size=(176,176))\n",
        "test_images = train_gen.flow_from_dataframe(dataframe=test_df, directory='/content/all_data_class_combined/', x_col=\"image\", y_col=\"label\", class_mode=\"categorical\", shuffle=True, batch_size=16, color_mode=\"grayscale\", target_size=(176,176))"
      ],
      "metadata": {
        "colab": {
          "base_uri": "https://localhost:8080/"
        },
        "id": "WQoviA4qn5ze",
        "outputId": "6564f950-a3e3-4c47-9b7a-307506f00fc3"
      },
      "execution_count": 12,
      "outputs": [
        {
          "output_type": "stream",
          "name": "stdout",
          "text": [
            "Found 4096 validated image filenames belonging to 4 classes.\n",
            "Found 1024 validated image filenames belonging to 4 classes.\n",
            "Found 1280 validated image filenames belonging to 4 classes.\n"
          ]
        }
      ]
    },
    {
      "cell_type": "code",
      "source": [
        "counter = Counter(train_images.classes)\n",
        "counter_val = Counter(validation_images.classes)\n",
        "counter_test = Counter(test_images.classes)\n",
        "print(counter.items())\n",
        "print(counter_val.items())\n",
        "print(counter_test.items())"
      ],
      "metadata": {
        "colab": {
          "base_uri": "https://localhost:8080/"
        },
        "id": "D05FoZ_rn-Ew",
        "outputId": "0fe149ee-81ca-4b32-951f-631f1f46d8cf"
      },
      "execution_count": 13,
      "outputs": [
        {
          "output_type": "stream",
          "name": "stdout",
          "text": [
            "dict_items([(0, 557), (3, 1456), (2, 2033), (1, 50)])\n",
            "dict_items([(3, 354), (2, 524), (0, 138), (1, 8)])\n",
            "dict_items([(2, 643), (3, 430), (0, 201), (1, 6)])\n"
          ]
        }
      ]
    },
    {
      "cell_type": "code",
      "source": [
        "class_counts = [557,50,2033 ,1456]\n",
        "\n",
        "class_weights = compute_class_weight(class_weight = 'balanced', classes=np.unique(train_images.classes), y= train_images.classes)\n",
        "\n",
        "class_weights_dict = dict(enumerate(class_weights))"
      ],
      "metadata": {
        "id": "ECM2QycPowpT"
      },
      "execution_count": 15,
      "outputs": []
    },
    {
      "cell_type": "code",
      "source": [
        "class_weights_dict"
      ],
      "metadata": {
        "colab": {
          "base_uri": "https://localhost:8080/"
        },
        "id": "px9B2qUQoz-n",
        "outputId": "63a789ef-3828-4736-baad-ab9d3f34c595"
      },
      "execution_count": 16,
      "outputs": [
        {
          "output_type": "execute_result",
          "data": {
            "text/plain": [
              "{0: 1.8384201077199283, 1: 20.48, 2: 0.5036891293654697, 3: 0.7032967032967034}"
            ]
          },
          "metadata": {},
          "execution_count": 16
        }
      ]
    },
    {
      "cell_type": "code",
      "source": [
        "# model1"
      ],
      "metadata": {
        "id": "U8nHjKOicH_d"
      },
      "execution_count": null,
      "outputs": []
    },
    {
      "cell_type": "code",
      "source": [
        "model1 = models.Sequential()\n",
        "model1.add(layers.Conv2D(128, (3, 3), padding='same', input_shape=(176, 176, 1)))\n",
        "model1.add(layers.MaxPooling2D(pool_size=(2, 2)))\n",
        "model1.add(BatchNormalization())\n",
        "model1.add(layers.Dropout(0.3))\n",
        "model1.add(layers.Activation(\"relu\"))\n",
        "model1.add(layers.Conv2D(64,(3, 3),  padding='same'))\n",
        "model1.add(layers.MaxPooling2D(pool_size=(2, 2)))\n",
        "model1.add(BatchNormalization())\n",
        "model1.add(layers.Dropout(0.3))\n",
        "model1.add(layers.Activation(\"relu\"))\n",
        "model1.add(layers.Conv2D(32,(3, 3),  padding='same'))\n",
        "model1.add(layers.MaxPooling2D(pool_size=(2, 2)))\n",
        "model1.add(BatchNormalization())\n",
        "model1.add(layers.Dropout(0.3))\n",
        "model1.add(layers.Activation(\"relu\"))\n",
        "model1.add(layers.Conv2D(16,(3, 3),  padding='same'))\n",
        "model1.add(layers.MaxPooling2D(pool_size=(2, 2)))\n",
        "model1.add(BatchNormalization())\n",
        "model1.add(layers.Dropout(0.3))\n",
        "model1.add(layers.Activation(\"relu\"))\n",
        "model1.add(layers.Flatten())\n",
        "model1.add(layers.Dense(512))\n",
        "model1.add(layers.Dropout(0.3))\n",
        "model1.add(layers.Dense(4, activation='softmax'))\n",
        "model1.compile(optimizer='adam',loss=\"categorical_crossentropy\",metrics=[\"accuracy\"])"
      ],
      "metadata": {
        "id": "JOUW2dNwoAnt"
      },
      "execution_count": null,
      "outputs": []
    },
    {
      "cell_type": "code",
      "source": [
        "model1.summary()"
      ],
      "metadata": {
        "colab": {
          "base_uri": "https://localhost:8080/"
        },
        "id": "afTKWM8NoDvv",
        "outputId": "a020338b-ead4-4bfd-9a08-e83aeca2d0f5"
      },
      "execution_count": null,
      "outputs": [
        {
          "output_type": "stream",
          "name": "stdout",
          "text": [
            "Model: \"sequential\"\n",
            "_________________________________________________________________\n",
            " Layer (type)                Output Shape              Param #   \n",
            "=================================================================\n",
            " conv2d (Conv2D)             (None, 176, 176, 128)     1280      \n",
            "                                                                 \n",
            " max_pooling2d (MaxPooling2  (None, 88, 88, 128)       0         \n",
            " D)                                                              \n",
            "                                                                 \n",
            " batch_normalization (Batch  (None, 88, 88, 128)       512       \n",
            " Normalization)                                                  \n",
            "                                                                 \n",
            " dropout (Dropout)           (None, 88, 88, 128)       0         \n",
            "                                                                 \n",
            " activation (Activation)     (None, 88, 88, 128)       0         \n",
            "                                                                 \n",
            " conv2d_1 (Conv2D)           (None, 88, 88, 64)        73792     \n",
            "                                                                 \n",
            " max_pooling2d_1 (MaxPoolin  (None, 44, 44, 64)        0         \n",
            " g2D)                                                            \n",
            "                                                                 \n",
            " batch_normalization_1 (Bat  (None, 44, 44, 64)        256       \n",
            " chNormalization)                                                \n",
            "                                                                 \n",
            " dropout_1 (Dropout)         (None, 44, 44, 64)        0         \n",
            "                                                                 \n",
            " activation_1 (Activation)   (None, 44, 44, 64)        0         \n",
            "                                                                 \n",
            " conv2d_2 (Conv2D)           (None, 44, 44, 32)        18464     \n",
            "                                                                 \n",
            " max_pooling2d_2 (MaxPoolin  (None, 22, 22, 32)        0         \n",
            " g2D)                                                            \n",
            "                                                                 \n",
            " batch_normalization_2 (Bat  (None, 22, 22, 32)        128       \n",
            " chNormalization)                                                \n",
            "                                                                 \n",
            " dropout_2 (Dropout)         (None, 22, 22, 32)        0         \n",
            "                                                                 \n",
            " activation_2 (Activation)   (None, 22, 22, 32)        0         \n",
            "                                                                 \n",
            " conv2d_3 (Conv2D)           (None, 22, 22, 16)        4624      \n",
            "                                                                 \n",
            " max_pooling2d_3 (MaxPoolin  (None, 11, 11, 16)        0         \n",
            " g2D)                                                            \n",
            "                                                                 \n",
            " batch_normalization_3 (Bat  (None, 11, 11, 16)        64        \n",
            " chNormalization)                                                \n",
            "                                                                 \n",
            " dropout_3 (Dropout)         (None, 11, 11, 16)        0         \n",
            "                                                                 \n",
            " activation_3 (Activation)   (None, 11, 11, 16)        0         \n",
            "                                                                 \n",
            " flatten (Flatten)           (None, 1936)              0         \n",
            "                                                                 \n",
            " dense (Dense)               (None, 512)               991744    \n",
            "                                                                 \n",
            " dropout_4 (Dropout)         (None, 512)               0         \n",
            "                                                                 \n",
            " dense_1 (Dense)             (None, 4)                 2052      \n",
            "                                                                 \n",
            "=================================================================\n",
            "Total params: 1092916 (4.17 MB)\n",
            "Trainable params: 1092436 (4.17 MB)\n",
            "Non-trainable params: 480 (1.88 KB)\n",
            "_________________________________________________________________\n"
          ]
        }
      ]
    },
    {
      "cell_type": "code",
      "source": [
        "model1.load_weights('/content/shuffled_model1_1.h5')"
      ],
      "metadata": {
        "id": "MFk-QbpcoGMv"
      },
      "execution_count": null,
      "outputs": []
    },
    {
      "cell_type": "code",
      "source": [
        "model_checkpoint = ModelCheckpoint('best_model_1.h5', save_best_only=True, save_weights_only=True, monitor='val_accuracy', mode='max', verbose=2)\n",
        "history = model1.fit(train_images, validation_data=validation_images ,callbacks=[model_checkpoint], class_weight=class_weights_dict , epochs= 100)"
      ],
      "metadata": {
        "colab": {
          "base_uri": "https://localhost:8080/"
        },
        "id": "OqBoGTYvo2un",
        "outputId": "c757a9dd-b350-4234-90dc-656d7cf512d7"
      },
      "execution_count": null,
      "outputs": [
        {
          "output_type": "stream",
          "name": "stdout",
          "text": [
            "Epoch 1/100\n",
            "128/128 [==============================] - ETA: 0s - loss: 4.4604 - accuracy: 0.2930\n",
            "Epoch 1: val_accuracy improved from -inf to 0.00781, saving model to best_model_1.h5\n",
            "128/128 [==============================] - 33s 181ms/step - loss: 4.4604 - accuracy: 0.2930 - val_loss: 1.5304 - val_accuracy: 0.0078\n",
            "Epoch 2/100\n",
            "128/128 [==============================] - ETA: 0s - loss: 3.3104 - accuracy: 0.3069\n",
            "Epoch 2: val_accuracy did not improve from 0.00781\n",
            "128/128 [==============================] - 26s 200ms/step - loss: 3.3104 - accuracy: 0.3069 - val_loss: 1.5465 - val_accuracy: 0.0078\n",
            "Epoch 3/100\n",
            "128/128 [==============================] - ETA: 0s - loss: 2.2096 - accuracy: 0.3215\n",
            "Epoch 3: val_accuracy improved from 0.00781 to 0.13477, saving model to best_model_1.h5\n",
            "128/128 [==============================] - 24s 184ms/step - loss: 2.2096 - accuracy: 0.3215 - val_loss: 1.6099 - val_accuracy: 0.1348\n",
            "Epoch 4/100\n",
            "128/128 [==============================] - ETA: 0s - loss: 1.7169 - accuracy: 0.3450\n",
            "Epoch 4: val_accuracy did not improve from 0.13477\n",
            "128/128 [==============================] - 25s 198ms/step - loss: 1.7169 - accuracy: 0.3450 - val_loss: 1.5939 - val_accuracy: 0.0371\n",
            "Epoch 5/100\n",
            "128/128 [==============================] - ETA: 0s - loss: 1.5070 - accuracy: 0.3657\n",
            "Epoch 5: val_accuracy improved from 0.13477 to 0.14941, saving model to best_model_1.h5\n",
            "128/128 [==============================] - 24s 191ms/step - loss: 1.5070 - accuracy: 0.3657 - val_loss: 1.4640 - val_accuracy: 0.1494\n",
            "Epoch 6/100\n",
            "128/128 [==============================] - ETA: 0s - loss: 1.4192 - accuracy: 0.3831\n",
            "Epoch 6: val_accuracy did not improve from 0.14941\n",
            "128/128 [==============================] - 23s 179ms/step - loss: 1.4192 - accuracy: 0.3831 - val_loss: 1.5716 - val_accuracy: 0.1104\n",
            "Epoch 7/100\n",
            "128/128 [==============================] - ETA: 0s - loss: 1.3774 - accuracy: 0.3770\n",
            "Epoch 7: val_accuracy improved from 0.14941 to 0.48242, saving model to best_model_1.h5\n",
            "128/128 [==============================] - 23s 180ms/step - loss: 1.3774 - accuracy: 0.3770 - val_loss: 1.0703 - val_accuracy: 0.4824\n",
            "Epoch 8/100\n",
            "128/128 [==============================] - ETA: 0s - loss: 1.2860 - accuracy: 0.3921\n",
            "Epoch 8: val_accuracy did not improve from 0.48242\n",
            "128/128 [==============================] - 24s 186ms/step - loss: 1.2860 - accuracy: 0.3921 - val_loss: 1.4563 - val_accuracy: 0.2441\n",
            "Epoch 9/100\n",
            "128/128 [==============================] - ETA: 0s - loss: 1.2490 - accuracy: 0.3936\n",
            "Epoch 9: val_accuracy did not improve from 0.48242\n",
            "128/128 [==============================] - 25s 199ms/step - loss: 1.2490 - accuracy: 0.3936 - val_loss: 1.4556 - val_accuracy: 0.2412\n",
            "Epoch 10/100\n",
            "128/128 [==============================] - ETA: 0s - loss: 1.2652 - accuracy: 0.3967\n",
            "Epoch 10: val_accuracy did not improve from 0.48242\n",
            "128/128 [==============================] - 25s 197ms/step - loss: 1.2652 - accuracy: 0.3967 - val_loss: 1.2331 - val_accuracy: 0.4316\n",
            "Epoch 11/100\n",
            "128/128 [==============================] - ETA: 0s - loss: 1.1924 - accuracy: 0.4014\n",
            "Epoch 11: val_accuracy did not improve from 0.48242\n",
            "128/128 [==============================] - 23s 180ms/step - loss: 1.1924 - accuracy: 0.4014 - val_loss: 1.3165 - val_accuracy: 0.3896\n",
            "Epoch 12/100\n",
            "128/128 [==============================] - ETA: 0s - loss: 1.1643 - accuracy: 0.4270\n",
            "Epoch 12: val_accuracy did not improve from 0.48242\n",
            "128/128 [==============================] - 24s 191ms/step - loss: 1.1643 - accuracy: 0.4270 - val_loss: 1.3293 - val_accuracy: 0.3369\n",
            "Epoch 13/100\n",
            "128/128 [==============================] - ETA: 0s - loss: 1.1695 - accuracy: 0.4351\n",
            "Epoch 13: val_accuracy did not improve from 0.48242\n",
            "128/128 [==============================] - 24s 183ms/step - loss: 1.1695 - accuracy: 0.4351 - val_loss: 1.0988 - val_accuracy: 0.4678\n",
            "Epoch 14/100\n",
            "128/128 [==============================] - ETA: 0s - loss: 1.2077 - accuracy: 0.4385\n",
            "Epoch 14: val_accuracy did not improve from 0.48242\n",
            "128/128 [==============================] - 24s 185ms/step - loss: 1.2077 - accuracy: 0.4385 - val_loss: 1.2734 - val_accuracy: 0.3955\n",
            "Epoch 15/100\n",
            "128/128 [==============================] - ETA: 0s - loss: 1.1777 - accuracy: 0.4236\n",
            "Epoch 15: val_accuracy did not improve from 0.48242\n",
            "128/128 [==============================] - 25s 198ms/step - loss: 1.1777 - accuracy: 0.4236 - val_loss: 1.2230 - val_accuracy: 0.4287\n",
            "Epoch 16/100\n",
            "128/128 [==============================] - ETA: 0s - loss: 1.1477 - accuracy: 0.4373\n",
            "Epoch 16: val_accuracy improved from 0.48242 to 0.48535, saving model to best_model_1.h5\n",
            "128/128 [==============================] - 25s 198ms/step - loss: 1.1477 - accuracy: 0.4373 - val_loss: 1.0857 - val_accuracy: 0.4854\n",
            "Epoch 17/100\n",
            "128/128 [==============================] - ETA: 0s - loss: 1.1142 - accuracy: 0.4631\n",
            "Epoch 17: val_accuracy did not improve from 0.48535\n",
            "128/128 [==============================] - 23s 180ms/step - loss: 1.1142 - accuracy: 0.4631 - val_loss: 1.2795 - val_accuracy: 0.3994\n",
            "Epoch 18/100\n",
            "128/128 [==============================] - ETA: 0s - loss: 1.1065 - accuracy: 0.4565\n",
            "Epoch 18: val_accuracy improved from 0.48535 to 0.51367, saving model to best_model_1.h5\n",
            "128/128 [==============================] - 24s 189ms/step - loss: 1.1065 - accuracy: 0.4565 - val_loss: 1.1228 - val_accuracy: 0.5137\n",
            "Epoch 19/100\n",
            "128/128 [==============================] - ETA: 0s - loss: 1.1706 - accuracy: 0.4392\n",
            "Epoch 19: val_accuracy did not improve from 0.51367\n",
            "128/128 [==============================] - 25s 197ms/step - loss: 1.1706 - accuracy: 0.4392 - val_loss: 1.1402 - val_accuracy: 0.4443\n",
            "Epoch 20/100\n",
            "128/128 [==============================] - ETA: 0s - loss: 1.1063 - accuracy: 0.4641\n",
            "Epoch 20: val_accuracy did not improve from 0.51367\n",
            "128/128 [==============================] - 26s 199ms/step - loss: 1.1063 - accuracy: 0.4641 - val_loss: 1.1188 - val_accuracy: 0.4512\n",
            "Epoch 21/100\n",
            "128/128 [==============================] - ETA: 0s - loss: 1.1005 - accuracy: 0.4685\n",
            "Epoch 21: val_accuracy improved from 0.51367 to 0.53418, saving model to best_model_1.h5\n",
            "128/128 [==============================] - 26s 200ms/step - loss: 1.1005 - accuracy: 0.4685 - val_loss: 0.9546 - val_accuracy: 0.5342\n",
            "Epoch 22/100\n",
            "128/128 [==============================] - ETA: 0s - loss: 1.0699 - accuracy: 0.4668\n",
            "Epoch 22: val_accuracy did not improve from 0.53418\n",
            "128/128 [==============================] - 26s 200ms/step - loss: 1.0699 - accuracy: 0.4668 - val_loss: 1.2075 - val_accuracy: 0.4453\n",
            "Epoch 23/100\n",
            "128/128 [==============================] - ETA: 0s - loss: 1.0381 - accuracy: 0.4761\n",
            "Epoch 23: val_accuracy did not improve from 0.53418\n",
            "128/128 [==============================] - 23s 181ms/step - loss: 1.0381 - accuracy: 0.4761 - val_loss: 1.0194 - val_accuracy: 0.5146\n",
            "Epoch 24/100\n",
            "128/128 [==============================] - ETA: 0s - loss: 1.1337 - accuracy: 0.4458\n",
            "Epoch 24: val_accuracy did not improve from 0.53418\n",
            "128/128 [==============================] - 26s 199ms/step - loss: 1.1337 - accuracy: 0.4458 - val_loss: 1.1494 - val_accuracy: 0.4639\n",
            "Epoch 25/100\n",
            "128/128 [==============================] - ETA: 0s - loss: 1.0664 - accuracy: 0.4751\n",
            "Epoch 25: val_accuracy did not improve from 0.53418\n",
            "128/128 [==============================] - 26s 199ms/step - loss: 1.0664 - accuracy: 0.4751 - val_loss: 1.0270 - val_accuracy: 0.5117\n",
            "Epoch 26/100\n",
            "128/128 [==============================] - ETA: 0s - loss: 1.0094 - accuracy: 0.5061\n",
            "Epoch 26: val_accuracy did not improve from 0.53418\n",
            "128/128 [==============================] - 26s 199ms/step - loss: 1.0094 - accuracy: 0.5061 - val_loss: 1.4152 - val_accuracy: 0.2949\n",
            "Epoch 27/100\n",
            "128/128 [==============================] - ETA: 0s - loss: 1.0913 - accuracy: 0.4705\n",
            "Epoch 27: val_accuracy did not improve from 0.53418\n",
            "128/128 [==============================] - 31s 239ms/step - loss: 1.0913 - accuracy: 0.4705 - val_loss: 1.0563 - val_accuracy: 0.5000\n",
            "Epoch 28/100\n",
            "128/128 [==============================] - ETA: 0s - loss: 1.0326 - accuracy: 0.4792\n",
            "Epoch 28: val_accuracy did not improve from 0.53418\n",
            "128/128 [==============================] - 23s 182ms/step - loss: 1.0326 - accuracy: 0.4792 - val_loss: 1.6497 - val_accuracy: 0.2363\n",
            "Epoch 29/100\n",
            "128/128 [==============================] - ETA: 0s - loss: 1.0019 - accuracy: 0.4927\n",
            "Epoch 29: val_accuracy did not improve from 0.53418\n",
            "128/128 [==============================] - 24s 187ms/step - loss: 1.0019 - accuracy: 0.4927 - val_loss: 1.0643 - val_accuracy: 0.4785\n",
            "Epoch 30/100\n",
            "128/128 [==============================] - ETA: 0s - loss: 1.0530 - accuracy: 0.4832\n",
            "Epoch 30: val_accuracy did not improve from 0.53418\n",
            "128/128 [==============================] - 26s 200ms/step - loss: 1.0530 - accuracy: 0.4832 - val_loss: 1.1239 - val_accuracy: 0.5156\n",
            "Epoch 31/100\n",
            "128/128 [==============================] - ETA: 0s - loss: 1.0073 - accuracy: 0.4858\n",
            "Epoch 31: val_accuracy did not improve from 0.53418\n",
            "128/128 [==============================] - 25s 193ms/step - loss: 1.0073 - accuracy: 0.4858 - val_loss: 1.0439 - val_accuracy: 0.5146\n",
            "Epoch 32/100\n",
            "128/128 [==============================] - ETA: 0s - loss: 0.9952 - accuracy: 0.4980\n",
            "Epoch 32: val_accuracy did not improve from 0.53418\n",
            "128/128 [==============================] - 25s 190ms/step - loss: 0.9952 - accuracy: 0.4980 - val_loss: 1.1150 - val_accuracy: 0.4727\n",
            "Epoch 33/100\n",
            "128/128 [==============================] - ETA: 0s - loss: 0.9390 - accuracy: 0.5068\n",
            "Epoch 33: val_accuracy did not improve from 0.53418\n",
            "128/128 [==============================] - 24s 186ms/step - loss: 0.9390 - accuracy: 0.5068 - val_loss: 1.0029 - val_accuracy: 0.5283\n",
            "Epoch 34/100\n",
            "128/128 [==============================] - ETA: 0s - loss: 0.9984 - accuracy: 0.4944\n",
            "Epoch 34: val_accuracy did not improve from 0.53418\n",
            "128/128 [==============================] - 26s 200ms/step - loss: 0.9984 - accuracy: 0.4944 - val_loss: 1.1834 - val_accuracy: 0.4424\n",
            "Epoch 35/100\n",
            "128/128 [==============================] - ETA: 0s - loss: 0.8999 - accuracy: 0.5137\n",
            "Epoch 35: val_accuracy did not improve from 0.53418\n",
            "128/128 [==============================] - 23s 181ms/step - loss: 0.8999 - accuracy: 0.5137 - val_loss: 1.2799 - val_accuracy: 0.3574\n",
            "Epoch 36/100\n",
            "128/128 [==============================] - ETA: 0s - loss: 0.9588 - accuracy: 0.5056\n",
            "Epoch 36: val_accuracy did not improve from 0.53418\n",
            "128/128 [==============================] - 23s 180ms/step - loss: 0.9588 - accuracy: 0.5056 - val_loss: 1.0386 - val_accuracy: 0.5146\n",
            "Epoch 37/100\n",
            "128/128 [==============================] - ETA: 0s - loss: 0.9152 - accuracy: 0.5042\n",
            "Epoch 37: val_accuracy did not improve from 0.53418\n",
            "128/128 [==============================] - 23s 179ms/step - loss: 0.9152 - accuracy: 0.5042 - val_loss: 1.0914 - val_accuracy: 0.4941\n",
            "Epoch 38/100\n",
            "128/128 [==============================] - ETA: 0s - loss: 0.9714 - accuracy: 0.4993\n",
            "Epoch 38: val_accuracy did not improve from 0.53418\n",
            "128/128 [==============================] - 26s 199ms/step - loss: 0.9714 - accuracy: 0.4993 - val_loss: 1.0413 - val_accuracy: 0.5215\n",
            "Epoch 39/100\n",
            "128/128 [==============================] - ETA: 0s - loss: 0.9807 - accuracy: 0.5061\n",
            "Epoch 39: val_accuracy did not improve from 0.53418\n",
            "128/128 [==============================] - 24s 185ms/step - loss: 0.9807 - accuracy: 0.5061 - val_loss: 1.3693 - val_accuracy: 0.3232\n",
            "Epoch 40/100\n",
            "128/128 [==============================] - ETA: 0s - loss: 0.9503 - accuracy: 0.5024\n",
            "Epoch 40: val_accuracy did not improve from 0.53418\n",
            "128/128 [==============================] - 24s 188ms/step - loss: 0.9503 - accuracy: 0.5024 - val_loss: 2.0415 - val_accuracy: 0.0977\n",
            "Epoch 41/100\n",
            "128/128 [==============================] - ETA: 0s - loss: 0.9369 - accuracy: 0.5005\n",
            "Epoch 41: val_accuracy did not improve from 0.53418\n",
            "128/128 [==============================] - 25s 198ms/step - loss: 0.9369 - accuracy: 0.5005 - val_loss: 1.4385 - val_accuracy: 0.2891\n",
            "Epoch 42/100\n",
            "128/128 [==============================] - ETA: 0s - loss: 0.9925 - accuracy: 0.4900\n",
            "Epoch 42: val_accuracy did not improve from 0.53418\n",
            "128/128 [==============================] - 23s 181ms/step - loss: 0.9925 - accuracy: 0.4900 - val_loss: 1.4124 - val_accuracy: 0.5127\n",
            "Epoch 43/100\n",
            "128/128 [==============================] - ETA: 0s - loss: 0.9043 - accuracy: 0.5093\n",
            "Epoch 43: val_accuracy did not improve from 0.53418\n",
            "128/128 [==============================] - 26s 200ms/step - loss: 0.9043 - accuracy: 0.5093 - val_loss: 1.4314 - val_accuracy: 0.2871\n",
            "Epoch 44/100\n",
            "128/128 [==============================] - ETA: 0s - loss: 0.9244 - accuracy: 0.5132\n",
            "Epoch 44: val_accuracy improved from 0.53418 to 0.53906, saving model to best_model_1.h5\n",
            "128/128 [==============================] - 25s 199ms/step - loss: 0.9244 - accuracy: 0.5132 - val_loss: 0.9598 - val_accuracy: 0.5391\n",
            "Epoch 45/100\n",
            "128/128 [==============================] - ETA: 0s - loss: 0.9182 - accuracy: 0.5098\n",
            "Epoch 45: val_accuracy did not improve from 0.53906\n",
            "128/128 [==============================] - 25s 196ms/step - loss: 0.9182 - accuracy: 0.5098 - val_loss: 1.5792 - val_accuracy: 0.2393\n",
            "Epoch 46/100\n",
            "128/128 [==============================] - ETA: 0s - loss: 0.9528 - accuracy: 0.5024\n",
            "Epoch 46: val_accuracy improved from 0.53906 to 0.54102, saving model to best_model_1.h5\n",
            "128/128 [==============================] - 23s 181ms/step - loss: 0.9528 - accuracy: 0.5024 - val_loss: 0.9110 - val_accuracy: 0.5410\n",
            "Epoch 47/100\n",
            "128/128 [==============================] - ETA: 0s - loss: 0.9022 - accuracy: 0.5166\n",
            "Epoch 47: val_accuracy did not improve from 0.54102\n",
            "128/128 [==============================] - 23s 179ms/step - loss: 0.9022 - accuracy: 0.5166 - val_loss: 1.9818 - val_accuracy: 0.1826\n",
            "Epoch 48/100\n",
            "128/128 [==============================] - ETA: 0s - loss: 0.8985 - accuracy: 0.5110\n",
            "Epoch 48: val_accuracy did not improve from 0.54102\n",
            "128/128 [==============================] - 24s 186ms/step - loss: 0.8985 - accuracy: 0.5110 - val_loss: 1.3426 - val_accuracy: 0.3594\n",
            "Epoch 49/100\n",
            "128/128 [==============================] - ETA: 0s - loss: 0.8396 - accuracy: 0.5146\n",
            "Epoch 49: val_accuracy did not improve from 0.54102\n",
            "128/128 [==============================] - 25s 197ms/step - loss: 0.8396 - accuracy: 0.5146 - val_loss: 1.0307 - val_accuracy: 0.4590\n",
            "Epoch 50/100\n",
            "128/128 [==============================] - ETA: 0s - loss: 0.8461 - accuracy: 0.5186\n",
            "Epoch 50: val_accuracy did not improve from 0.54102\n",
            "128/128 [==============================] - 23s 180ms/step - loss: 0.8461 - accuracy: 0.5186 - val_loss: 1.0660 - val_accuracy: 0.4688\n",
            "Epoch 51/100\n",
            "128/128 [==============================] - ETA: 0s - loss: 0.8717 - accuracy: 0.5120\n",
            "Epoch 51: val_accuracy did not improve from 0.54102\n",
            "128/128 [==============================] - 23s 179ms/step - loss: 0.8717 - accuracy: 0.5120 - val_loss: 1.1893 - val_accuracy: 0.3877\n",
            "Epoch 52/100\n",
            "128/128 [==============================] - ETA: 0s - loss: 0.8711 - accuracy: 0.5276\n",
            "Epoch 52: val_accuracy did not improve from 0.54102\n",
            "128/128 [==============================] - 23s 180ms/step - loss: 0.8711 - accuracy: 0.5276 - val_loss: 1.2657 - val_accuracy: 0.3848\n",
            "Epoch 53/100\n",
            "128/128 [==============================] - ETA: 0s - loss: 0.8952 - accuracy: 0.5217\n",
            "Epoch 53: val_accuracy did not improve from 0.54102\n",
            "128/128 [==============================] - 23s 180ms/step - loss: 0.8952 - accuracy: 0.5217 - val_loss: 1.1997 - val_accuracy: 0.4248\n",
            "Epoch 54/100\n",
            "128/128 [==============================] - ETA: 0s - loss: 0.8614 - accuracy: 0.5188\n",
            "Epoch 54: val_accuracy did not improve from 0.54102\n",
            "128/128 [==============================] - 24s 187ms/step - loss: 0.8614 - accuracy: 0.5188 - val_loss: 1.1180 - val_accuracy: 0.4795\n",
            "Epoch 55/100\n",
            "128/128 [==============================] - ETA: 0s - loss: 0.8624 - accuracy: 0.5225\n",
            "Epoch 55: val_accuracy did not improve from 0.54102\n",
            "128/128 [==============================] - 23s 182ms/step - loss: 0.8624 - accuracy: 0.5225 - val_loss: 1.2024 - val_accuracy: 0.4082\n",
            "Epoch 56/100\n",
            "128/128 [==============================] - ETA: 0s - loss: 0.8653 - accuracy: 0.5215\n",
            "Epoch 56: val_accuracy did not improve from 0.54102\n",
            "128/128 [==============================] - 26s 199ms/step - loss: 0.8653 - accuracy: 0.5215 - val_loss: 0.9946 - val_accuracy: 0.5205\n",
            "Epoch 57/100\n",
            "128/128 [==============================] - ETA: 0s - loss: 0.8231 - accuracy: 0.5244\n",
            "Epoch 57: val_accuracy improved from 0.54102 to 0.54395, saving model to best_model_1.h5\n",
            "128/128 [==============================] - 23s 181ms/step - loss: 0.8231 - accuracy: 0.5244 - val_loss: 0.9159 - val_accuracy: 0.5439\n",
            "Epoch 58/100\n",
            "128/128 [==============================] - ETA: 0s - loss: 0.7948 - accuracy: 0.5344\n",
            "Epoch 58: val_accuracy did not improve from 0.54395\n",
            "128/128 [==============================] - 23s 179ms/step - loss: 0.7948 - accuracy: 0.5344 - val_loss: 1.0946 - val_accuracy: 0.4678\n",
            "Epoch 59/100\n",
            "128/128 [==============================] - ETA: 0s - loss: 0.9189 - accuracy: 0.5254\n",
            "Epoch 59: val_accuracy improved from 0.54395 to 0.55273, saving model to best_model_1.h5\n",
            "128/128 [==============================] - 23s 181ms/step - loss: 0.9189 - accuracy: 0.5254 - val_loss: 0.9344 - val_accuracy: 0.5527\n",
            "Epoch 60/100\n",
            "128/128 [==============================] - ETA: 0s - loss: 0.8311 - accuracy: 0.5342\n",
            "Epoch 60: val_accuracy did not improve from 0.55273\n",
            "128/128 [==============================] - 23s 180ms/step - loss: 0.8311 - accuracy: 0.5342 - val_loss: 0.9190 - val_accuracy: 0.5420\n",
            "Epoch 61/100\n",
            "128/128 [==============================] - ETA: 0s - loss: 0.8863 - accuracy: 0.5249\n",
            "Epoch 61: val_accuracy did not improve from 0.55273\n",
            "128/128 [==============================] - 23s 181ms/step - loss: 0.8863 - accuracy: 0.5249 - val_loss: 1.0253 - val_accuracy: 0.5117\n",
            "Epoch 62/100\n",
            "128/128 [==============================] - ETA: 0s - loss: 0.8380 - accuracy: 0.5215\n",
            "Epoch 62: val_accuracy did not improve from 0.55273\n",
            "128/128 [==============================] - 23s 182ms/step - loss: 0.8380 - accuracy: 0.5215 - val_loss: 1.0717 - val_accuracy: 0.4980\n",
            "Epoch 63/100\n",
            "128/128 [==============================] - ETA: 0s - loss: 0.8043 - accuracy: 0.5437\n",
            "Epoch 63: val_accuracy did not improve from 0.55273\n",
            "128/128 [==============================] - 24s 186ms/step - loss: 0.8043 - accuracy: 0.5437 - val_loss: 1.6283 - val_accuracy: 0.1582\n",
            "Epoch 64/100\n",
            "128/128 [==============================] - ETA: 0s - loss: 0.8338 - accuracy: 0.5374\n",
            "Epoch 64: val_accuracy did not improve from 0.55273\n",
            "128/128 [==============================] - 24s 188ms/step - loss: 0.8338 - accuracy: 0.5374 - val_loss: 1.1513 - val_accuracy: 0.3887\n",
            "Epoch 65/100\n",
            "128/128 [==============================] - ETA: 0s - loss: 0.9142 - accuracy: 0.5298\n",
            "Epoch 65: val_accuracy did not improve from 0.55273\n",
            "128/128 [==============================] - 26s 199ms/step - loss: 0.9142 - accuracy: 0.5298 - val_loss: 0.9955 - val_accuracy: 0.5283\n",
            "Epoch 66/100\n",
            "128/128 [==============================] - ETA: 0s - loss: 0.8234 - accuracy: 0.5254\n",
            "Epoch 66: val_accuracy did not improve from 0.55273\n",
            "128/128 [==============================] - 26s 200ms/step - loss: 0.8234 - accuracy: 0.5254 - val_loss: 1.1440 - val_accuracy: 0.4395\n",
            "Epoch 67/100\n",
            "128/128 [==============================] - ETA: 0s - loss: 0.8363 - accuracy: 0.5293\n",
            "Epoch 67: val_accuracy did not improve from 0.55273\n",
            "128/128 [==============================] - 23s 181ms/step - loss: 0.8363 - accuracy: 0.5293 - val_loss: 1.2838 - val_accuracy: 0.3652\n",
            "Epoch 68/100\n",
            "128/128 [==============================] - ETA: 0s - loss: 0.8187 - accuracy: 0.5486\n",
            "Epoch 68: val_accuracy did not improve from 0.55273\n",
            "128/128 [==============================] - 23s 178ms/step - loss: 0.8187 - accuracy: 0.5486 - val_loss: 1.5630 - val_accuracy: 0.2471\n",
            "Epoch 69/100\n",
            "128/128 [==============================] - ETA: 0s - loss: 0.8621 - accuracy: 0.5317\n",
            "Epoch 69: val_accuracy did not improve from 0.55273\n",
            "128/128 [==============================] - 23s 181ms/step - loss: 0.8621 - accuracy: 0.5317 - val_loss: 1.2717 - val_accuracy: 0.4092\n",
            "Epoch 70/100\n",
            "128/128 [==============================] - ETA: 0s - loss: 0.8454 - accuracy: 0.5315\n",
            "Epoch 70: val_accuracy did not improve from 0.55273\n",
            "128/128 [==============================] - 23s 180ms/step - loss: 0.8454 - accuracy: 0.5315 - val_loss: 1.6677 - val_accuracy: 0.2363\n",
            "Epoch 71/100\n",
            "128/128 [==============================] - ETA: 0s - loss: 0.7786 - accuracy: 0.5396\n",
            "Epoch 71: val_accuracy did not improve from 0.55273\n",
            "128/128 [==============================] - 23s 180ms/step - loss: 0.7786 - accuracy: 0.5396 - val_loss: 0.9761 - val_accuracy: 0.5215\n",
            "Epoch 72/100\n",
            "128/128 [==============================] - ETA: 0s - loss: 0.8128 - accuracy: 0.5361\n",
            "Epoch 72: val_accuracy did not improve from 0.55273\n",
            "128/128 [==============================] - 23s 182ms/step - loss: 0.8128 - accuracy: 0.5361 - val_loss: 1.0253 - val_accuracy: 0.5244\n",
            "Epoch 73/100\n",
            "128/128 [==============================] - ETA: 0s - loss: 0.8463 - accuracy: 0.5254\n",
            "Epoch 73: val_accuracy did not improve from 0.55273\n",
            "128/128 [==============================] - 23s 179ms/step - loss: 0.8463 - accuracy: 0.5254 - val_loss: 1.3050 - val_accuracy: 0.3643\n",
            "Epoch 74/100\n",
            "128/128 [==============================] - ETA: 0s - loss: 0.7998 - accuracy: 0.5366\n",
            "Epoch 74: val_accuracy did not improve from 0.55273\n",
            "128/128 [==============================] - 24s 187ms/step - loss: 0.7998 - accuracy: 0.5366 - val_loss: 1.3195 - val_accuracy: 0.3994\n",
            "Epoch 75/100\n",
            "128/128 [==============================] - ETA: 0s - loss: 0.8063 - accuracy: 0.5508\n",
            "Epoch 75: val_accuracy did not improve from 0.55273\n",
            "128/128 [==============================] - 24s 190ms/step - loss: 0.8063 - accuracy: 0.5508 - val_loss: 1.1659 - val_accuracy: 0.4180\n",
            "Epoch 76/100\n",
            "128/128 [==============================] - ETA: 0s - loss: 0.7905 - accuracy: 0.5330\n",
            "Epoch 76: val_accuracy improved from 0.55273 to 0.55762, saving model to best_model_1.h5\n",
            "128/128 [==============================] - 23s 179ms/step - loss: 0.7905 - accuracy: 0.5330 - val_loss: 0.9050 - val_accuracy: 0.5576\n",
            "Epoch 77/100\n",
            "128/128 [==============================] - ETA: 0s - loss: 0.7486 - accuracy: 0.5496\n",
            "Epoch 77: val_accuracy did not improve from 0.55762\n",
            "128/128 [==============================] - 23s 180ms/step - loss: 0.7486 - accuracy: 0.5496 - val_loss: 1.7029 - val_accuracy: 0.1592\n",
            "Epoch 78/100\n",
            "128/128 [==============================] - ETA: 0s - loss: 0.8136 - accuracy: 0.5403\n",
            "Epoch 78: val_accuracy did not improve from 0.55762\n",
            "128/128 [==============================] - 23s 180ms/step - loss: 0.8136 - accuracy: 0.5403 - val_loss: 0.8830 - val_accuracy: 0.5283\n",
            "Epoch 79/100\n",
            "128/128 [==============================] - ETA: 0s - loss: 0.8407 - accuracy: 0.5222\n",
            "Epoch 79: val_accuracy did not improve from 0.55762\n",
            "128/128 [==============================] - 26s 202ms/step - loss: 0.8407 - accuracy: 0.5222 - val_loss: 0.9380 - val_accuracy: 0.5508\n",
            "Epoch 80/100\n",
            "128/128 [==============================] - ETA: 0s - loss: 0.7900 - accuracy: 0.5425\n",
            "Epoch 80: val_accuracy did not improve from 0.55762\n",
            "128/128 [==============================] - 23s 180ms/step - loss: 0.7900 - accuracy: 0.5425 - val_loss: 0.9469 - val_accuracy: 0.5234\n",
            "Epoch 81/100\n",
            "128/128 [==============================] - ETA: 0s - loss: 0.8287 - accuracy: 0.5381\n",
            "Epoch 81: val_accuracy did not improve from 0.55762\n",
            "128/128 [==============================] - 23s 179ms/step - loss: 0.8287 - accuracy: 0.5381 - val_loss: 0.8884 - val_accuracy: 0.5576\n",
            "Epoch 82/100\n",
            "128/128 [==============================] - ETA: 0s - loss: 0.7841 - accuracy: 0.5544\n",
            "Epoch 82: val_accuracy did not improve from 0.55762\n",
            "128/128 [==============================] - 24s 189ms/step - loss: 0.7841 - accuracy: 0.5544 - val_loss: 1.3122 - val_accuracy: 0.3506\n",
            "Epoch 83/100\n",
            "128/128 [==============================] - ETA: 0s - loss: 0.8081 - accuracy: 0.5391\n",
            "Epoch 83: val_accuracy did not improve from 0.55762\n",
            "128/128 [==============================] - 25s 191ms/step - loss: 0.8081 - accuracy: 0.5391 - val_loss: 0.9774 - val_accuracy: 0.5166\n",
            "Epoch 84/100\n",
            "128/128 [==============================] - ETA: 0s - loss: 0.8836 - accuracy: 0.5178\n",
            "Epoch 84: val_accuracy did not improve from 0.55762\n",
            "128/128 [==============================] - 23s 181ms/step - loss: 0.8836 - accuracy: 0.5178 - val_loss: 1.0252 - val_accuracy: 0.4883\n",
            "Epoch 85/100\n",
            "128/128 [==============================] - ETA: 0s - loss: 0.7887 - accuracy: 0.5518\n",
            "Epoch 85: val_accuracy did not improve from 0.55762\n",
            "128/128 [==============================] - 23s 180ms/step - loss: 0.7887 - accuracy: 0.5518 - val_loss: 1.8146 - val_accuracy: 0.1670\n",
            "Epoch 86/100\n",
            "128/128 [==============================] - ETA: 0s - loss: 0.8075 - accuracy: 0.5466\n",
            "Epoch 86: val_accuracy improved from 0.55762 to 0.57324, saving model to best_model_1.h5\n",
            "128/128 [==============================] - 25s 192ms/step - loss: 0.8075 - accuracy: 0.5466 - val_loss: 0.8648 - val_accuracy: 0.5732\n",
            "Epoch 87/100\n",
            "128/128 [==============================] - ETA: 0s - loss: 0.7933 - accuracy: 0.5491\n",
            "Epoch 87: val_accuracy did not improve from 0.57324\n",
            "128/128 [==============================] - 23s 180ms/step - loss: 0.7933 - accuracy: 0.5491 - val_loss: 1.1953 - val_accuracy: 0.4209\n",
            "Epoch 88/100\n",
            "128/128 [==============================] - ETA: 0s - loss: 0.7377 - accuracy: 0.5488\n",
            "Epoch 88: val_accuracy did not improve from 0.57324\n",
            "128/128 [==============================] - 24s 188ms/step - loss: 0.7377 - accuracy: 0.5488 - val_loss: 1.3499 - val_accuracy: 0.3262\n",
            "Epoch 89/100\n",
            "128/128 [==============================] - ETA: 0s - loss: 0.8113 - accuracy: 0.5403\n",
            "Epoch 89: val_accuracy did not improve from 0.57324\n",
            "128/128 [==============================] - 24s 190ms/step - loss: 0.8113 - accuracy: 0.5403 - val_loss: 1.0849 - val_accuracy: 0.4746\n",
            "Epoch 90/100\n",
            "128/128 [==============================] - ETA: 0s - loss: 0.7868 - accuracy: 0.5410\n",
            "Epoch 90: val_accuracy did not improve from 0.57324\n",
            "128/128 [==============================] - 23s 180ms/step - loss: 0.7868 - accuracy: 0.5410 - val_loss: 0.9532 - val_accuracy: 0.5332\n",
            "Epoch 91/100\n",
            "128/128 [==============================] - ETA: 0s - loss: 0.8426 - accuracy: 0.5249\n",
            "Epoch 91: val_accuracy did not improve from 0.57324\n",
            "128/128 [==============================] - 23s 181ms/step - loss: 0.8426 - accuracy: 0.5249 - val_loss: 0.9940 - val_accuracy: 0.5342\n",
            "Epoch 92/100\n",
            "128/128 [==============================] - ETA: 0s - loss: 0.8014 - accuracy: 0.5425\n",
            "Epoch 92: val_accuracy did not improve from 0.57324\n",
            "128/128 [==============================] - 23s 181ms/step - loss: 0.8014 - accuracy: 0.5425 - val_loss: 0.9269 - val_accuracy: 0.5557\n",
            "Epoch 93/100\n",
            "128/128 [==============================] - ETA: 0s - loss: 0.7708 - accuracy: 0.5481\n",
            "Epoch 93: val_accuracy did not improve from 0.57324\n",
            "128/128 [==============================] - 23s 181ms/step - loss: 0.7708 - accuracy: 0.5481 - val_loss: 0.9091 - val_accuracy: 0.5576\n",
            "Epoch 94/100\n",
            "128/128 [==============================] - ETA: 0s - loss: 0.7912 - accuracy: 0.5476\n",
            "Epoch 94: val_accuracy did not improve from 0.57324\n",
            "128/128 [==============================] - 23s 180ms/step - loss: 0.7912 - accuracy: 0.5476 - val_loss: 0.8826 - val_accuracy: 0.5723\n",
            "Epoch 95/100\n",
            "128/128 [==============================] - ETA: 0s - loss: 0.7731 - accuracy: 0.5405\n",
            "Epoch 95: val_accuracy did not improve from 0.57324\n",
            "128/128 [==============================] - 23s 179ms/step - loss: 0.7731 - accuracy: 0.5405 - val_loss: 1.1158 - val_accuracy: 0.5273\n",
            "Epoch 96/100\n",
            "128/128 [==============================] - ETA: 0s - loss: 0.7919 - accuracy: 0.5549\n",
            "Epoch 96: val_accuracy did not improve from 0.57324\n",
            "128/128 [==============================] - 24s 188ms/step - loss: 0.7919 - accuracy: 0.5549 - val_loss: 1.1581 - val_accuracy: 0.4316\n",
            "Epoch 97/100\n",
            "128/128 [==============================] - ETA: 0s - loss: 0.7510 - accuracy: 0.5515\n",
            "Epoch 97: val_accuracy did not improve from 0.57324\n",
            "128/128 [==============================] - 24s 189ms/step - loss: 0.7510 - accuracy: 0.5515 - val_loss: 1.0537 - val_accuracy: 0.4824\n",
            "Epoch 98/100\n",
            "128/128 [==============================] - ETA: 0s - loss: 0.7659 - accuracy: 0.5459\n",
            "Epoch 98: val_accuracy did not improve from 0.57324\n",
            "128/128 [==============================] - 26s 199ms/step - loss: 0.7659 - accuracy: 0.5459 - val_loss: 0.9280 - val_accuracy: 0.5449\n",
            "Epoch 99/100\n",
            "128/128 [==============================] - ETA: 0s - loss: 0.7964 - accuracy: 0.5549\n",
            "Epoch 99: val_accuracy did not improve from 0.57324\n",
            "128/128 [==============================] - 26s 204ms/step - loss: 0.7964 - accuracy: 0.5549 - val_loss: 0.9922 - val_accuracy: 0.4971\n",
            "Epoch 100/100\n",
            "128/128 [==============================] - ETA: 0s - loss: 0.7631 - accuracy: 0.5586\n",
            "Epoch 100: val_accuracy did not improve from 0.57324\n",
            "128/128 [==============================] - 24s 184ms/step - loss: 0.7631 - accuracy: 0.5586 - val_loss: 0.8923 - val_accuracy: 0.5547\n"
          ]
        }
      ]
    },
    {
      "cell_type": "code",
      "source": [
        "test_loss, test_accuracy = model1.evaluate(test_images) # 1st"
      ],
      "metadata": {
        "colab": {
          "base_uri": "https://localhost:8080/"
        },
        "id": "dAs0KIVIojmx",
        "outputId": "77bc2df3-93de-41f4-cd81-8dad71ba4a52"
      },
      "execution_count": null,
      "outputs": [
        {
          "output_type": "stream",
          "name": "stdout",
          "text": [
            "40/40 [==============================] - 4s 102ms/step - loss: 0.8546 - accuracy: 0.5734\n"
          ]
        }
      ]
    },
    {
      "cell_type": "code",
      "source": [
        "model1.evaluate(train_images) , model1.evaluate(validation_images) #1st"
      ],
      "metadata": {
        "colab": {
          "base_uri": "https://localhost:8080/"
        },
        "id": "5AgIwuBgonH-",
        "outputId": "b2d932a4-b05c-4109-ccf0-f18efa337984"
      },
      "execution_count": null,
      "outputs": [
        {
          "output_type": "stream",
          "name": "stdout",
          "text": [
            "128/128 [==============================] - 14s 112ms/step - loss: 0.8162 - accuracy: 0.6047\n",
            "32/32 [==============================] - 5s 153ms/step - loss: 0.8608 - accuracy: 0.5791\n"
          ]
        },
        {
          "output_type": "execute_result",
          "data": {
            "text/plain": [
              "([0.8161712288856506, 0.604736328125], [0.8607696294784546, 0.5791015625])"
            ]
          },
          "metadata": {},
          "execution_count": 21
        }
      ]
    },
    {
      "cell_type": "code",
      "source": [
        "true_test_labels = test_images.classes\n",
        "test_pred = model1.predict(test_images)\n",
        "\n",
        "test_pred_classes = np.argmax(test_pred, axis=1)\n",
        "confusion_Matrix = confusion_matrix(true_test_labels, test_pred_classes)\n",
        "sns.heatmap(confusion_Matrix, annot=True, cmap='Blues',fmt='.3g')\n",
        "plt.xlabel('Predicted labels')\n",
        "plt.ylabel('True labels')\n",
        "plt.show()"
      ],
      "metadata": {
        "colab": {
          "base_uri": "https://localhost:8080/",
          "height": 468
        },
        "id": "mwBOGQUKoscG",
        "outputId": "ce2b027c-54e4-43c3-9b28-e1ba5591222c"
      },
      "execution_count": null,
      "outputs": [
        {
          "output_type": "stream",
          "name": "stdout",
          "text": [
            "40/40 [==============================] - 4s 109ms/step\n"
          ]
        },
        {
          "output_type": "display_data",
          "data": {
            "text/plain": [
              "<Figure size 640x480 with 2 Axes>"
            ],
            "image/png": "[encoded data removed]"
          },
          "metadata": {}
        }
      ]
    },
    {
      "cell_type": "code",
      "source": [
        "test_report = classification_report(true_test_labels, test_pred_classes)\n",
        "print(test_report)"
      ],
      "metadata": {
        "colab": {
          "base_uri": "https://localhost:8080/"
        },
        "id": "k9O151ZeFZZL",
        "outputId": "d91b88bc-89a1-4c7d-ed02-4421ff431bf7"
      },
      "execution_count": null,
      "outputs": [
        {
          "output_type": "stream",
          "name": "stdout",
          "text": [
            "              precision    recall  f1-score   support\n",
            "\n",
            "           0       0.16      0.19      0.17       201\n",
            "           1       0.04      0.17      0.07         6\n",
            "           2       0.52      0.47      0.49       643\n",
            "           3       0.38      0.37      0.37       430\n",
            "\n",
            "    accuracy                           0.39      1280\n",
            "   macro avg       0.27      0.30      0.28      1280\n",
            "weighted avg       0.41      0.39      0.40      1280\n",
            "\n"
          ]
        }
      ]
    },
    {
      "cell_type": "code",
      "source": [
        "# Model2 with slightly different order: dropout to 0.2 too much loss"
      ],
      "metadata": {
        "id": "cZyP-ImuFZQy"
      },
      "execution_count": null,
      "outputs": []
    },
    {
      "cell_type": "code",
      "source": [
        "model2 = models.Sequential()\n",
        "model2.add(layers.Conv2D(128, (3, 3), padding='same', input_shape=(176, 176, 1)))\n",
        "model2.add(BatchNormalization())\n",
        "model2.add(layers.Activation(\"relu\"))\n",
        "model2.add(layers.Dropout(0.2))\n",
        "model2.add(layers.MaxPooling2D(pool_size=(2, 2)))\n",
        "model2.add(layers.Conv2D(64,(3, 3),  padding='same'))\n",
        "model2.add(BatchNormalization())\n",
        "model2.add(layers.Activation(\"relu\"))\n",
        "model2.add(layers.Dropout(0.2))\n",
        "model2.add(layers.MaxPooling2D(pool_size=(2, 2)))\n",
        "model2.add(layers.Conv2D(32,(3, 3),  padding='same'))\n",
        "model2.add(BatchNormalization())\n",
        "model2.add(layers.Activation(\"relu\"))\n",
        "model2.add(layers.Dropout(0.2))\n",
        "model2.add(layers.MaxPooling2D(pool_size=(2, 2)))\n",
        "model2.add(layers.Conv2D(16,(3, 3),  padding='same'))\n",
        "model2.add(BatchNormalization())\n",
        "model2.add(layers.Activation(\"relu\"))\n",
        "model2.add(layers.Dropout(0.2))\n",
        "model2.add(layers.MaxPooling2D(pool_size=(2, 2)))\n",
        "model2.add(layers.Flatten())\n",
        "model2.add(layers.Dense(512))\n",
        "model2.add(layers.Dropout(0.2))\n",
        "model2.add(layers.Dense(4, activation='softmax'))\n",
        "model2.compile(optimizer='adam',loss=\"categorical_crossentropy\",metrics=[\"accuracy\"])"
      ],
      "metadata": {
        "id": "aTm0bnfwduKj"
      },
      "execution_count": 17,
      "outputs": []
    },
    {
      "cell_type": "code",
      "source": [
        "model2.summary()"
      ],
      "metadata": {
        "colab": {
          "base_uri": "https://localhost:8080/"
        },
        "id": "kIUlOLt6gwcF",
        "outputId": "1d725f4a-2880-496f-9a79-b6a63cbaf753"
      },
      "execution_count": 18,
      "outputs": [
        {
          "output_type": "stream",
          "name": "stdout",
          "text": [
            "Model: \"sequential\"\n",
            "_________________________________________________________________\n",
            " Layer (type)                Output Shape              Param #   \n",
            "=================================================================\n",
            " conv2d (Conv2D)             (None, 176, 176, 128)     1280      \n",
            "                                                                 \n",
            " batch_normalization (Batch  (None, 176, 176, 128)     512       \n",
            " Normalization)                                                  \n",
            "                                                                 \n",
            " activation (Activation)     (None, 176, 176, 128)     0         \n",
            "                                                                 \n",
            " dropout (Dropout)           (None, 176, 176, 128)     0         \n",
            "                                                                 \n",
            " max_pooling2d (MaxPooling2  (None, 88, 88, 128)       0         \n",
            " D)                                                              \n",
            "                                                                 \n",
            " conv2d_1 (Conv2D)           (None, 88, 88, 64)        73792     \n",
            "                                                                 \n",
            " batch_normalization_1 (Bat  (None, 88, 88, 64)        256       \n",
            " chNormalization)                                                \n",
            "                                                                 \n",
            " activation_1 (Activation)   (None, 88, 88, 64)        0         \n",
            "                                                                 \n",
            " dropout_1 (Dropout)         (None, 88, 88, 64)        0         \n",
            "                                                                 \n",
            " max_pooling2d_1 (MaxPoolin  (None, 44, 44, 64)        0         \n",
            " g2D)                                                            \n",
            "                                                                 \n",
            " conv2d_2 (Conv2D)           (None, 44, 44, 32)        18464     \n",
            "                                                                 \n",
            " batch_normalization_2 (Bat  (None, 44, 44, 32)        128       \n",
            " chNormalization)                                                \n",
            "                                                                 \n",
            " activation_2 (Activation)   (None, 44, 44, 32)        0         \n",
            "                                                                 \n",
            " dropout_2 (Dropout)         (None, 44, 44, 32)        0         \n",
            "                                                                 \n",
            " max_pooling2d_2 (MaxPoolin  (None, 22, 22, 32)        0         \n",
            " g2D)                                                            \n",
            "                                                                 \n",
            " conv2d_3 (Conv2D)           (None, 22, 22, 16)        4624      \n",
            "                                                                 \n",
            " batch_normalization_3 (Bat  (None, 22, 22, 16)        64        \n",
            " chNormalization)                                                \n",
            "                                                                 \n",
            " activation_3 (Activation)   (None, 22, 22, 16)        0         \n",
            "                                                                 \n",
            " dropout_3 (Dropout)         (None, 22, 22, 16)        0         \n",
            "                                                                 \n",
            " max_pooling2d_3 (MaxPoolin  (None, 11, 11, 16)        0         \n",
            " g2D)                                                            \n",
            "                                                                 \n",
            " flatten (Flatten)           (None, 1936)              0         \n",
            "                                                                 \n",
            " dense (Dense)               (None, 512)               991744    \n",
            "                                                                 \n",
            " dropout_4 (Dropout)         (None, 512)               0         \n",
            "                                                                 \n",
            " dense_1 (Dense)             (None, 4)                 2052      \n",
            "                                                                 \n",
            "=================================================================\n",
            "Total params: 1092916 (4.17 MB)\n",
            "Trainable params: 1092436 (4.17 MB)\n",
            "Non-trainable params: 480 (1.88 KB)\n",
            "_________________________________________________________________\n"
          ]
        }
      ]
    },
    {
      "cell_type": "code",
      "source": [
        "model2.load_weights('/content/shuffled_model2_1.h5')"
      ],
      "metadata": {
        "id": "Oq3Lf9EsgzQK"
      },
      "execution_count": 20,
      "outputs": []
    },
    {
      "cell_type": "code",
      "source": [
        "model_checkpoint = ModelCheckpoint('shuffled_model2_1.h5', save_best_only=True, save_weights_only=True, monitor='val_accuracy', mode='max', verbose=2)\n",
        "history2 = model2.fit(train_images, validation_data=validation_images ,callbacks=[model_checkpoint], class_weight=class_weights_dict , epochs= 100)"
      ],
      "metadata": {
        "colab": {
          "base_uri": "https://localhost:8080/"
        },
        "id": "AREQD1-shSMD",
        "outputId": "0f6e84e8-c0e4-4ae4-8902-ea82b70cb965"
      },
      "execution_count": 19,
      "outputs": [
        {
          "output_type": "stream",
          "name": "stdout",
          "text": [
            "Epoch 1/100\n",
            "128/128 [==============================] - ETA: 0s - loss: 7.6886 - accuracy: 0.2986\n",
            "Epoch 1: val_accuracy improved from -inf to 0.00781, saving model to shuffled_model2_1.h5\n",
            "128/128 [==============================] - 47s 275ms/step - loss: 7.6886 - accuracy: 0.2986 - val_loss: 2.1067 - val_accuracy: 0.0078\n",
            "Epoch 2/100\n",
            "128/128 [==============================] - ETA: 0s - loss: 2.9924 - accuracy: 0.3467\n",
            "Epoch 2: val_accuracy improved from 0.00781 to 0.34570, saving model to shuffled_model2_1.h5\n",
            "128/128 [==============================] - 33s 261ms/step - loss: 2.9924 - accuracy: 0.3467 - val_loss: 1.5175 - val_accuracy: 0.3457\n",
            "Epoch 3/100\n",
            "128/128 [==============================] - ETA: 0s - loss: 2.7499 - accuracy: 0.3328\n",
            "Epoch 3: val_accuracy improved from 0.34570 to 0.51172, saving model to shuffled_model2_1.h5\n",
            "128/128 [==============================] - 34s 262ms/step - loss: 2.7499 - accuracy: 0.3328 - val_loss: 1.2444 - val_accuracy: 0.5117\n",
            "Epoch 4/100\n",
            "128/128 [==============================] - ETA: 0s - loss: 1.7917 - accuracy: 0.3918\n",
            "Epoch 4: val_accuracy did not improve from 0.51172\n",
            "128/128 [==============================] - 33s 259ms/step - loss: 1.7917 - accuracy: 0.3918 - val_loss: 1.4209 - val_accuracy: 0.1348\n",
            "Epoch 5/100\n",
            "128/128 [==============================] - ETA: 0s - loss: 1.6948 - accuracy: 0.3965\n",
            "Epoch 5: val_accuracy did not improve from 0.51172\n",
            "128/128 [==============================] - 33s 260ms/step - loss: 1.6948 - accuracy: 0.3965 - val_loss: 1.2462 - val_accuracy: 0.4287\n",
            "Epoch 6/100\n",
            "128/128 [==============================] - ETA: 0s - loss: 1.3484 - accuracy: 0.4224\n",
            "Epoch 6: val_accuracy did not improve from 0.51172\n",
            "128/128 [==============================] - 31s 243ms/step - loss: 1.3484 - accuracy: 0.4224 - val_loss: 1.0575 - val_accuracy: 0.4795\n",
            "Epoch 7/100\n",
            "128/128 [==============================] - ETA: 0s - loss: 1.3156 - accuracy: 0.4426\n",
            "Epoch 7: val_accuracy did not improve from 0.51172\n",
            "128/128 [==============================] - 31s 242ms/step - loss: 1.3156 - accuracy: 0.4426 - val_loss: 1.6034 - val_accuracy: 0.0488\n",
            "Epoch 8/100\n",
            "128/128 [==============================] - ETA: 0s - loss: 1.2138 - accuracy: 0.4390\n",
            "Epoch 8: val_accuracy improved from 0.51172 to 0.52148, saving model to shuffled_model2_1.h5\n",
            "128/128 [==============================] - 32s 247ms/step - loss: 1.2138 - accuracy: 0.4390 - val_loss: 1.1732 - val_accuracy: 0.5215\n",
            "Epoch 9/100\n",
            "128/128 [==============================] - ETA: 0s - loss: 1.1910 - accuracy: 0.4478\n",
            "Epoch 9: val_accuracy did not improve from 0.52148\n",
            "128/128 [==============================] - 32s 246ms/step - loss: 1.1910 - accuracy: 0.4478 - val_loss: 1.1400 - val_accuracy: 0.3604\n",
            "Epoch 10/100\n",
            "128/128 [==============================] - ETA: 0s - loss: 1.1169 - accuracy: 0.4609\n",
            "Epoch 10: val_accuracy did not improve from 0.52148\n",
            "128/128 [==============================] - 33s 256ms/step - loss: 1.1169 - accuracy: 0.4609 - val_loss: 1.0712 - val_accuracy: 0.4854\n",
            "Epoch 11/100\n",
            "128/128 [==============================] - ETA: 0s - loss: 1.1554 - accuracy: 0.4534\n",
            "Epoch 11: val_accuracy improved from 0.52148 to 0.52344, saving model to shuffled_model2_1.h5\n",
            "128/128 [==============================] - 33s 260ms/step - loss: 1.1554 - accuracy: 0.4534 - val_loss: 1.0604 - val_accuracy: 0.5234\n",
            "Epoch 12/100\n",
            "128/128 [==============================] - ETA: 0s - loss: 1.0313 - accuracy: 0.4839\n",
            "Epoch 12: val_accuracy did not improve from 0.52344\n",
            "128/128 [==============================] - 31s 243ms/step - loss: 1.0313 - accuracy: 0.4839 - val_loss: 1.0492 - val_accuracy: 0.5117\n",
            "Epoch 13/100\n",
            "128/128 [==============================] - ETA: 0s - loss: 0.9595 - accuracy: 0.4893\n",
            "Epoch 13: val_accuracy improved from 0.52344 to 0.53906, saving model to shuffled_model2_1.h5\n",
            "128/128 [==============================] - 31s 243ms/step - loss: 0.9595 - accuracy: 0.4893 - val_loss: 0.9870 - val_accuracy: 0.5391\n",
            "Epoch 14/100\n",
            "128/128 [==============================] - ETA: 0s - loss: 0.9800 - accuracy: 0.5024\n",
            "Epoch 14: val_accuracy did not improve from 0.53906\n",
            "128/128 [==============================] - 32s 247ms/step - loss: 0.9800 - accuracy: 0.5024 - val_loss: 1.3497 - val_accuracy: 0.2871\n",
            "Epoch 15/100\n",
            "128/128 [==============================] - ETA: 0s - loss: 0.9806 - accuracy: 0.4937\n",
            "Epoch 15: val_accuracy improved from 0.53906 to 0.55273, saving model to shuffled_model2_1.h5\n",
            "128/128 [==============================] - 33s 255ms/step - loss: 0.9806 - accuracy: 0.4937 - val_loss: 0.9821 - val_accuracy: 0.5527\n",
            "Epoch 16/100\n",
            "128/128 [==============================] - ETA: 0s - loss: 0.9697 - accuracy: 0.5098\n",
            "Epoch 16: val_accuracy did not improve from 0.55273\n",
            "128/128 [==============================] - 31s 244ms/step - loss: 0.9697 - accuracy: 0.5098 - val_loss: 1.3650 - val_accuracy: 0.2822\n",
            "Epoch 17/100\n",
            "128/128 [==============================] - ETA: 0s - loss: 1.1029 - accuracy: 0.4663\n",
            "Epoch 17: val_accuracy did not improve from 0.55273\n",
            "128/128 [==============================] - 31s 243ms/step - loss: 1.1029 - accuracy: 0.4663 - val_loss: 1.1796 - val_accuracy: 0.3447\n",
            "Epoch 18/100\n",
            "128/128 [==============================] - ETA: 0s - loss: 0.9616 - accuracy: 0.5000\n",
            "Epoch 18: val_accuracy did not improve from 0.55273\n",
            "128/128 [==============================] - 32s 249ms/step - loss: 0.9616 - accuracy: 0.5000 - val_loss: 1.2313 - val_accuracy: 0.3662\n",
            "Epoch 19/100\n",
            "128/128 [==============================] - ETA: 0s - loss: 0.9877 - accuracy: 0.5059\n",
            "Epoch 19: val_accuracy did not improve from 0.55273\n",
            "128/128 [==============================] - 34s 261ms/step - loss: 0.9877 - accuracy: 0.5059 - val_loss: 1.2880 - val_accuracy: 0.4326\n",
            "Epoch 20/100\n",
            "128/128 [==============================] - ETA: 0s - loss: 0.9620 - accuracy: 0.5066\n",
            "Epoch 20: val_accuracy did not improve from 0.55273\n",
            "128/128 [==============================] - 31s 243ms/step - loss: 0.9620 - accuracy: 0.5066 - val_loss: 1.7561 - val_accuracy: 0.1592\n",
            "Epoch 21/100\n",
            "128/128 [==============================] - ETA: 0s - loss: 0.8958 - accuracy: 0.5188\n",
            "Epoch 21: val_accuracy did not improve from 0.55273\n",
            "128/128 [==============================] - 31s 243ms/step - loss: 0.8958 - accuracy: 0.5188 - val_loss: 1.0481 - val_accuracy: 0.4854\n",
            "Epoch 22/100\n",
            "128/128 [==============================] - ETA: 0s - loss: 0.8269 - accuracy: 0.5332\n",
            "Epoch 22: val_accuracy did not improve from 0.55273\n",
            "128/128 [==============================] - 31s 243ms/step - loss: 0.8269 - accuracy: 0.5332 - val_loss: 1.0173 - val_accuracy: 0.4971\n",
            "Epoch 23/100\n",
            "128/128 [==============================] - ETA: 0s - loss: 0.9146 - accuracy: 0.5195\n",
            "Epoch 23: val_accuracy did not improve from 0.55273\n",
            "128/128 [==============================] - 33s 254ms/step - loss: 0.9146 - accuracy: 0.5195 - val_loss: 0.9618 - val_accuracy: 0.5205\n",
            "Epoch 24/100\n",
            "128/128 [==============================] - ETA: 0s - loss: 0.8927 - accuracy: 0.5227\n",
            "Epoch 24: val_accuracy did not improve from 0.55273\n",
            "128/128 [==============================] - 31s 242ms/step - loss: 0.8927 - accuracy: 0.5227 - val_loss: 1.2904 - val_accuracy: 0.3154\n",
            "Epoch 25/100\n",
            "128/128 [==============================] - ETA: 0s - loss: 0.7996 - accuracy: 0.5457\n",
            "Epoch 25: val_accuracy did not improve from 0.55273\n",
            "128/128 [==============================] - 31s 243ms/step - loss: 0.7996 - accuracy: 0.5457 - val_loss: 0.9820 - val_accuracy: 0.5391\n",
            "Epoch 26/100\n",
            "128/128 [==============================] - ETA: 0s - loss: 0.8583 - accuracy: 0.5295\n",
            "Epoch 26: val_accuracy did not improve from 0.55273\n",
            "128/128 [==============================] - 31s 244ms/step - loss: 0.8583 - accuracy: 0.5295 - val_loss: 1.2131 - val_accuracy: 0.4551\n",
            "Epoch 27/100\n",
            "128/128 [==============================] - ETA: 0s - loss: 1.0044 - accuracy: 0.5081\n",
            "Epoch 27: val_accuracy did not improve from 0.55273\n",
            "128/128 [==============================] - 32s 246ms/step - loss: 1.0044 - accuracy: 0.5081 - val_loss: 1.0529 - val_accuracy: 0.4668\n",
            "Epoch 28/100\n",
            "128/128 [==============================] - ETA: 0s - loss: 0.8132 - accuracy: 0.5339\n",
            "Epoch 28: val_accuracy did not improve from 0.55273\n",
            "128/128 [==============================] - 33s 256ms/step - loss: 0.8132 - accuracy: 0.5339 - val_loss: 1.0386 - val_accuracy: 0.5049\n",
            "Epoch 29/100\n",
            "128/128 [==============================] - ETA: 0s - loss: 0.8357 - accuracy: 0.5332\n",
            "Epoch 29: val_accuracy did not improve from 0.55273\n",
            "128/128 [==============================] - 33s 261ms/step - loss: 0.8357 - accuracy: 0.5332 - val_loss: 1.2410 - val_accuracy: 0.3340\n",
            "Epoch 30/100\n",
            "128/128 [==============================] - ETA: 0s - loss: 0.8190 - accuracy: 0.5249\n",
            "Epoch 30: val_accuracy did not improve from 0.55273\n",
            "128/128 [==============================] - 31s 243ms/step - loss: 0.8190 - accuracy: 0.5249 - val_loss: 1.1762 - val_accuracy: 0.3936\n",
            "Epoch 31/100\n",
            "128/128 [==============================] - ETA: 0s - loss: 0.8963 - accuracy: 0.5254\n",
            "Epoch 31: val_accuracy did not improve from 0.55273\n",
            "128/128 [==============================] - 32s 248ms/step - loss: 0.8963 - accuracy: 0.5254 - val_loss: 1.0549 - val_accuracy: 0.4746\n",
            "Epoch 32/100\n",
            "128/128 [==============================] - ETA: 0s - loss: 0.7795 - accuracy: 0.5339\n",
            "Epoch 32: val_accuracy did not improve from 0.55273\n",
            "128/128 [==============================] - 33s 260ms/step - loss: 0.7795 - accuracy: 0.5339 - val_loss: 1.1428 - val_accuracy: 0.5225\n",
            "Epoch 33/100\n",
            "128/128 [==============================] - ETA: 0s - loss: 0.8635 - accuracy: 0.5322\n",
            "Epoch 33: val_accuracy did not improve from 0.55273\n",
            "128/128 [==============================] - 31s 242ms/step - loss: 0.8635 - accuracy: 0.5322 - val_loss: 1.4778 - val_accuracy: 0.2100\n",
            "Epoch 34/100\n",
            "128/128 [==============================] - ETA: 0s - loss: 0.7850 - accuracy: 0.5483\n",
            "Epoch 34: val_accuracy did not improve from 0.55273\n",
            "128/128 [==============================] - 31s 243ms/step - loss: 0.7850 - accuracy: 0.5483 - val_loss: 0.9126 - val_accuracy: 0.5488\n",
            "Epoch 35/100\n",
            "128/128 [==============================] - ETA: 0s - loss: 0.8244 - accuracy: 0.5493\n",
            "Epoch 35: val_accuracy did not improve from 0.55273\n",
            "128/128 [==============================] - 31s 244ms/step - loss: 0.8244 - accuracy: 0.5493 - val_loss: 1.6301 - val_accuracy: 0.2275\n",
            "Epoch 36/100\n",
            "128/128 [==============================] - ETA: 0s - loss: 0.8867 - accuracy: 0.5332\n",
            "Epoch 36: val_accuracy did not improve from 0.55273\n",
            "128/128 [==============================] - 33s 253ms/step - loss: 0.8867 - accuracy: 0.5332 - val_loss: 1.2387 - val_accuracy: 0.3760\n",
            "Epoch 37/100\n",
            "128/128 [==============================] - ETA: 0s - loss: 0.7601 - accuracy: 0.5549\n",
            "Epoch 37: val_accuracy did not improve from 0.55273\n",
            "128/128 [==============================] - 32s 247ms/step - loss: 0.7601 - accuracy: 0.5549 - val_loss: 1.0619 - val_accuracy: 0.4346\n",
            "Epoch 38/100\n",
            "128/128 [==============================] - ETA: 0s - loss: 0.7978 - accuracy: 0.5488\n",
            "Epoch 38: val_accuracy did not improve from 0.55273\n",
            "128/128 [==============================] - 33s 254ms/step - loss: 0.7978 - accuracy: 0.5488 - val_loss: 1.1697 - val_accuracy: 0.3984\n",
            "Epoch 39/100\n",
            "128/128 [==============================] - ETA: 0s - loss: 0.7083 - accuracy: 0.5547\n",
            "Epoch 39: val_accuracy did not improve from 0.55273\n",
            "128/128 [==============================] - 31s 243ms/step - loss: 0.7083 - accuracy: 0.5547 - val_loss: 1.2151 - val_accuracy: 0.3613\n",
            "Epoch 40/100\n",
            "128/128 [==============================] - ETA: 0s - loss: 0.7825 - accuracy: 0.5498\n",
            "Epoch 40: val_accuracy did not improve from 0.55273\n",
            "128/128 [==============================] - 31s 243ms/step - loss: 0.7825 - accuracy: 0.5498 - val_loss: 1.0130 - val_accuracy: 0.5020\n",
            "Epoch 41/100\n",
            "128/128 [==============================] - ETA: 0s - loss: 0.7247 - accuracy: 0.5520\n",
            "Epoch 41: val_accuracy did not improve from 0.55273\n",
            "128/128 [==============================] - 31s 243ms/step - loss: 0.7247 - accuracy: 0.5520 - val_loss: 1.3786 - val_accuracy: 0.2773\n",
            "Epoch 42/100\n",
            "128/128 [==============================] - ETA: 0s - loss: 0.8059 - accuracy: 0.5444\n",
            "Epoch 42: val_accuracy did not improve from 0.55273\n",
            "128/128 [==============================] - 32s 251ms/step - loss: 0.8059 - accuracy: 0.5444 - val_loss: 1.2798 - val_accuracy: 0.3877\n",
            "Epoch 43/100\n",
            "128/128 [==============================] - ETA: 0s - loss: 0.7833 - accuracy: 0.5488\n",
            "Epoch 43: val_accuracy did not improve from 0.55273\n",
            "128/128 [==============================] - 31s 244ms/step - loss: 0.7833 - accuracy: 0.5488 - val_loss: 0.9134 - val_accuracy: 0.5371\n",
            "Epoch 44/100\n",
            "128/128 [==============================] - ETA: 0s - loss: 0.7291 - accuracy: 0.5647\n",
            "Epoch 44: val_accuracy did not improve from 0.55273\n",
            "128/128 [==============================] - 31s 243ms/step - loss: 0.7291 - accuracy: 0.5647 - val_loss: 1.0274 - val_accuracy: 0.4834\n",
            "Epoch 45/100\n",
            "128/128 [==============================] - ETA: 0s - loss: 0.7280 - accuracy: 0.5574\n",
            "Epoch 45: val_accuracy did not improve from 0.55273\n",
            "128/128 [==============================] - 31s 244ms/step - loss: 0.7280 - accuracy: 0.5574 - val_loss: 0.9194 - val_accuracy: 0.5488\n",
            "Epoch 46/100\n",
            "128/128 [==============================] - ETA: 0s - loss: 0.8109 - accuracy: 0.5547\n",
            "Epoch 46: val_accuracy did not improve from 0.55273\n",
            "128/128 [==============================] - 31s 243ms/step - loss: 0.8109 - accuracy: 0.5547 - val_loss: 0.9142 - val_accuracy: 0.5342\n",
            "Epoch 47/100\n",
            "128/128 [==============================] - ETA: 0s - loss: 0.7417 - accuracy: 0.5522\n",
            "Epoch 47: val_accuracy improved from 0.55273 to 0.55762, saving model to shuffled_model2_1.h5\n",
            "128/128 [==============================] - 32s 249ms/step - loss: 0.7417 - accuracy: 0.5522 - val_loss: 0.9074 - val_accuracy: 0.5576\n",
            "Epoch 48/100\n",
            "128/128 [==============================] - ETA: 0s - loss: 0.7075 - accuracy: 0.5686\n",
            "Epoch 48: val_accuracy did not improve from 0.55762\n",
            "128/128 [==============================] - 33s 260ms/step - loss: 0.7075 - accuracy: 0.5686 - val_loss: 1.4949 - val_accuracy: 0.3008\n",
            "Epoch 49/100\n",
            "128/128 [==============================] - ETA: 0s - loss: 0.7151 - accuracy: 0.5754\n",
            "Epoch 49: val_accuracy did not improve from 0.55762\n",
            "128/128 [==============================] - 32s 249ms/step - loss: 0.7151 - accuracy: 0.5754 - val_loss: 1.1236 - val_accuracy: 0.4111\n",
            "Epoch 50/100\n",
            "128/128 [==============================] - ETA: 0s - loss: 0.7219 - accuracy: 0.5676\n",
            "Epoch 50: val_accuracy did not improve from 0.55762\n",
            "128/128 [==============================] - 34s 261ms/step - loss: 0.7219 - accuracy: 0.5676 - val_loss: 1.1758 - val_accuracy: 0.3877\n",
            "Epoch 51/100\n",
            "128/128 [==============================] - ETA: 0s - loss: 0.6967 - accuracy: 0.5696\n",
            "Epoch 51: val_accuracy did not improve from 0.55762\n",
            "128/128 [==============================] - 32s 249ms/step - loss: 0.6967 - accuracy: 0.5696 - val_loss: 0.9872 - val_accuracy: 0.5186\n",
            "Epoch 52/100\n",
            "128/128 [==============================] - ETA: 0s - loss: 0.7879 - accuracy: 0.5540\n",
            "Epoch 52: val_accuracy did not improve from 0.55762\n",
            "128/128 [==============================] - 31s 244ms/step - loss: 0.7879 - accuracy: 0.5540 - val_loss: 1.1482 - val_accuracy: 0.3770\n",
            "Epoch 53/100\n",
            "128/128 [==============================] - ETA: 0s - loss: 0.7070 - accuracy: 0.5693\n",
            "Epoch 53: val_accuracy did not improve from 0.55762\n",
            "128/128 [==============================] - 32s 253ms/step - loss: 0.7070 - accuracy: 0.5693 - val_loss: 1.8093 - val_accuracy: 0.2207\n",
            "Epoch 54/100\n",
            "128/128 [==============================] - ETA: 0s - loss: 0.7382 - accuracy: 0.5691\n",
            "Epoch 54: val_accuracy did not improve from 0.55762\n",
            "128/128 [==============================] - 31s 243ms/step - loss: 0.7382 - accuracy: 0.5691 - val_loss: 1.4864 - val_accuracy: 0.3047\n",
            "Epoch 55/100\n",
            "128/128 [==============================] - ETA: 0s - loss: 0.6983 - accuracy: 0.5754\n",
            "Epoch 55: val_accuracy did not improve from 0.55762\n",
            "128/128 [==============================] - 31s 243ms/step - loss: 0.6983 - accuracy: 0.5754 - val_loss: 1.3221 - val_accuracy: 0.3525\n",
            "Epoch 56/100\n",
            "128/128 [==============================] - ETA: 0s - loss: 0.7185 - accuracy: 0.5776\n",
            "Epoch 56: val_accuracy did not improve from 0.55762\n",
            "128/128 [==============================] - 32s 245ms/step - loss: 0.7185 - accuracy: 0.5776 - val_loss: 1.2021 - val_accuracy: 0.3691\n",
            "Epoch 57/100\n",
            "128/128 [==============================] - ETA: 0s - loss: 0.7252 - accuracy: 0.5757\n",
            "Epoch 57: val_accuracy improved from 0.55762 to 0.56445, saving model to shuffled_model2_1.h5\n",
            "128/128 [==============================] - 34s 262ms/step - loss: 0.7252 - accuracy: 0.5757 - val_loss: 0.9044 - val_accuracy: 0.5645\n",
            "Epoch 58/100\n",
            "128/128 [==============================] - ETA: 0s - loss: 0.7071 - accuracy: 0.5735\n",
            "Epoch 58: val_accuracy did not improve from 0.56445\n",
            "128/128 [==============================] - 31s 242ms/step - loss: 0.7071 - accuracy: 0.5735 - val_loss: 1.1450 - val_accuracy: 0.3984\n",
            "Epoch 59/100\n",
            "128/128 [==============================] - ETA: 0s - loss: 0.6901 - accuracy: 0.5728\n",
            "Epoch 59: val_accuracy did not improve from 0.56445\n",
            "128/128 [==============================] - 31s 243ms/step - loss: 0.6901 - accuracy: 0.5728 - val_loss: 1.1211 - val_accuracy: 0.4297\n",
            "Epoch 60/100\n",
            "128/128 [==============================] - ETA: 0s - loss: 0.7101 - accuracy: 0.5693\n",
            "Epoch 60: val_accuracy did not improve from 0.56445\n",
            "128/128 [==============================] - 31s 243ms/step - loss: 0.7101 - accuracy: 0.5693 - val_loss: 1.3358 - val_accuracy: 0.2979\n",
            "Epoch 61/100\n",
            "128/128 [==============================] - ETA: 0s - loss: 0.7222 - accuracy: 0.5815\n",
            "Epoch 61: val_accuracy did not improve from 0.56445\n",
            "128/128 [==============================] - 32s 246ms/step - loss: 0.7222 - accuracy: 0.5815 - val_loss: 1.6196 - val_accuracy: 0.2900\n",
            "Epoch 62/100\n",
            "128/128 [==============================] - ETA: 0s - loss: 0.7059 - accuracy: 0.5688\n",
            "Epoch 62: val_accuracy did not improve from 0.56445\n",
            "128/128 [==============================] - 31s 244ms/step - loss: 0.7059 - accuracy: 0.5688 - val_loss: 1.1762 - val_accuracy: 0.3701\n",
            "Epoch 63/100\n",
            "128/128 [==============================] - ETA: 0s - loss: 0.6963 - accuracy: 0.5959\n",
            "Epoch 63: val_accuracy did not improve from 0.56445\n",
            "128/128 [==============================] - 31s 243ms/step - loss: 0.6963 - accuracy: 0.5959 - val_loss: 1.0762 - val_accuracy: 0.4395\n",
            "Epoch 64/100\n",
            "128/128 [==============================] - ETA: 0s - loss: 0.7262 - accuracy: 0.5801\n",
            "Epoch 64: val_accuracy did not improve from 0.56445\n",
            "128/128 [==============================] - 32s 248ms/step - loss: 0.7262 - accuracy: 0.5801 - val_loss: 1.5931 - val_accuracy: 0.3154\n",
            "Epoch 65/100\n",
            "128/128 [==============================] - ETA: 0s - loss: 0.7093 - accuracy: 0.5845\n",
            "Epoch 65: val_accuracy did not improve from 0.56445\n",
            "128/128 [==============================] - 34s 261ms/step - loss: 0.7093 - accuracy: 0.5845 - val_loss: 1.0322 - val_accuracy: 0.5576\n",
            "Epoch 66/100\n",
            "128/128 [==============================] - ETA: 0s - loss: 0.6850 - accuracy: 0.5698\n",
            "Epoch 66: val_accuracy did not improve from 0.56445\n",
            "128/128 [==============================] - 31s 242ms/step - loss: 0.6850 - accuracy: 0.5698 - val_loss: 1.0569 - val_accuracy: 0.4521\n",
            "Epoch 67/100\n",
            "128/128 [==============================] - ETA: 0s - loss: 0.6545 - accuracy: 0.5864\n",
            "Epoch 67: val_accuracy did not improve from 0.56445\n",
            "128/128 [==============================] - 31s 243ms/step - loss: 0.6545 - accuracy: 0.5864 - val_loss: 1.1326 - val_accuracy: 0.4072\n",
            "Epoch 68/100\n",
            "128/128 [==============================] - ETA: 0s - loss: 0.6805 - accuracy: 0.5967\n",
            "Epoch 68: val_accuracy did not improve from 0.56445\n",
            "128/128 [==============================] - 31s 242ms/step - loss: 0.6805 - accuracy: 0.5967 - val_loss: 1.5221 - val_accuracy: 0.2725\n",
            "Epoch 69/100\n",
            "128/128 [==============================] - ETA: 0s - loss: 0.7066 - accuracy: 0.5872\n",
            "Epoch 69: val_accuracy did not improve from 0.56445\n",
            "128/128 [==============================] - 32s 249ms/step - loss: 0.7066 - accuracy: 0.5872 - val_loss: 0.9880 - val_accuracy: 0.4766\n",
            "Epoch 70/100\n",
            "128/128 [==============================] - ETA: 0s - loss: 0.7030 - accuracy: 0.5774\n",
            "Epoch 70: val_accuracy did not improve from 0.56445\n",
            "128/128 [==============================] - 34s 264ms/step - loss: 0.7030 - accuracy: 0.5774 - val_loss: 1.2363 - val_accuracy: 0.3838\n",
            "Epoch 71/100\n",
            "128/128 [==============================] - ETA: 0s - loss: 0.6833 - accuracy: 0.6006\n",
            "Epoch 71: val_accuracy did not improve from 0.56445\n",
            "128/128 [==============================] - 33s 260ms/step - loss: 0.6833 - accuracy: 0.6006 - val_loss: 1.2375 - val_accuracy: 0.3604\n",
            "Epoch 72/100\n",
            "128/128 [==============================] - ETA: 0s - loss: 0.6357 - accuracy: 0.6021\n",
            "Epoch 72: val_accuracy did not improve from 0.56445\n",
            "128/128 [==============================] - 32s 247ms/step - loss: 0.6357 - accuracy: 0.6021 - val_loss: 1.0715 - val_accuracy: 0.4404\n",
            "Epoch 73/100\n",
            "128/128 [==============================] - ETA: 0s - loss: 0.6668 - accuracy: 0.5952\n",
            "Epoch 73: val_accuracy did not improve from 0.56445\n",
            "128/128 [==============================] - 34s 262ms/step - loss: 0.6668 - accuracy: 0.5952 - val_loss: 1.5087 - val_accuracy: 0.3467\n",
            "Epoch 74/100\n",
            "128/128 [==============================] - ETA: 0s - loss: 0.7488 - accuracy: 0.5828\n",
            "Epoch 74: val_accuracy did not improve from 0.56445\n",
            "128/128 [==============================] - 31s 243ms/step - loss: 0.7488 - accuracy: 0.5828 - val_loss: 0.9251 - val_accuracy: 0.5293\n",
            "Epoch 75/100\n",
            "128/128 [==============================] - ETA: 0s - loss: 0.6792 - accuracy: 0.5989\n",
            "Epoch 75: val_accuracy did not improve from 0.56445\n",
            "128/128 [==============================] - 31s 243ms/step - loss: 0.6792 - accuracy: 0.5989 - val_loss: 1.1195 - val_accuracy: 0.3730\n",
            "Epoch 76/100\n",
            "128/128 [==============================] - ETA: 0s - loss: 0.6435 - accuracy: 0.6147\n",
            "Epoch 76: val_accuracy did not improve from 0.56445\n",
            "128/128 [==============================] - 33s 259ms/step - loss: 0.6435 - accuracy: 0.6147 - val_loss: 1.2611 - val_accuracy: 0.3447\n",
            "Epoch 77/100\n",
            "128/128 [==============================] - ETA: 0s - loss: 0.6848 - accuracy: 0.5869\n",
            "Epoch 77: val_accuracy did not improve from 0.56445\n",
            "128/128 [==============================] - 33s 255ms/step - loss: 0.6848 - accuracy: 0.5869 - val_loss: 1.5127 - val_accuracy: 0.2676\n",
            "Epoch 78/100\n",
            "128/128 [==============================] - ETA: 0s - loss: 0.6774 - accuracy: 0.6021\n",
            "Epoch 78: val_accuracy did not improve from 0.56445\n",
            "128/128 [==============================] - 31s 243ms/step - loss: 0.6774 - accuracy: 0.6021 - val_loss: 1.3211 - val_accuracy: 0.3193\n",
            "Epoch 79/100\n",
            "128/128 [==============================] - ETA: 0s - loss: 0.6459 - accuracy: 0.6101\n",
            "Epoch 79: val_accuracy did not improve from 0.56445\n",
            "128/128 [==============================] - 31s 242ms/step - loss: 0.6459 - accuracy: 0.6101 - val_loss: 1.2758 - val_accuracy: 0.3584\n",
            "Epoch 80/100\n",
            "128/128 [==============================] - ETA: 0s - loss: 0.6623 - accuracy: 0.5984\n",
            "Epoch 80: val_accuracy did not improve from 0.56445\n",
            "128/128 [==============================] - 31s 242ms/step - loss: 0.6623 - accuracy: 0.5984 - val_loss: 1.1593 - val_accuracy: 0.3857\n",
            "Epoch 81/100\n",
            "128/128 [==============================] - ETA: 0s - loss: 0.6682 - accuracy: 0.6074\n",
            "Epoch 81: val_accuracy did not improve from 0.56445\n",
            "128/128 [==============================] - 32s 247ms/step - loss: 0.6682 - accuracy: 0.6074 - val_loss: 1.1521 - val_accuracy: 0.3730\n",
            "Epoch 82/100\n",
            "128/128 [==============================] - ETA: 0s - loss: 0.6569 - accuracy: 0.6077\n",
            "Epoch 82: val_accuracy did not improve from 0.56445\n",
            "128/128 [==============================] - 33s 260ms/step - loss: 0.6569 - accuracy: 0.6077 - val_loss: 0.9923 - val_accuracy: 0.4834\n",
            "Epoch 83/100\n",
            "128/128 [==============================] - ETA: 0s - loss: 0.6184 - accuracy: 0.6196\n",
            "Epoch 83: val_accuracy did not improve from 0.56445\n",
            "128/128 [==============================] - 31s 244ms/step - loss: 0.6184 - accuracy: 0.6196 - val_loss: 0.9421 - val_accuracy: 0.5596\n",
            "Epoch 84/100\n",
            "128/128 [==============================] - ETA: 0s - loss: 0.6622 - accuracy: 0.6050\n",
            "Epoch 84: val_accuracy did not improve from 0.56445\n",
            "128/128 [==============================] - 31s 242ms/step - loss: 0.6622 - accuracy: 0.6050 - val_loss: 1.2275 - val_accuracy: 0.3135\n",
            "Epoch 85/100\n",
            "128/128 [==============================] - ETA: 0s - loss: 0.6297 - accuracy: 0.6121\n",
            "Epoch 85: val_accuracy did not improve from 0.56445\n",
            "128/128 [==============================] - 31s 242ms/step - loss: 0.6297 - accuracy: 0.6121 - val_loss: 0.8944 - val_accuracy: 0.5508\n",
            "Epoch 86/100\n",
            "128/128 [==============================] - ETA: 0s - loss: 0.6376 - accuracy: 0.6162\n",
            "Epoch 86: val_accuracy did not improve from 0.56445\n",
            "128/128 [==============================] - 31s 242ms/step - loss: 0.6376 - accuracy: 0.6162 - val_loss: 1.1133 - val_accuracy: 0.3984\n",
            "Epoch 87/100\n",
            "128/128 [==============================] - ETA: 0s - loss: 0.6242 - accuracy: 0.6162\n",
            "Epoch 87: val_accuracy did not improve from 0.56445\n",
            "128/128 [==============================] - 32s 249ms/step - loss: 0.6242 - accuracy: 0.6162 - val_loss: 1.0098 - val_accuracy: 0.4404\n",
            "Epoch 88/100\n",
            "128/128 [==============================] - ETA: 0s - loss: 0.6418 - accuracy: 0.6121\n",
            "Epoch 88: val_accuracy did not improve from 0.56445\n",
            "128/128 [==============================] - 33s 260ms/step - loss: 0.6418 - accuracy: 0.6121 - val_loss: 1.3514 - val_accuracy: 0.3086\n",
            "Epoch 89/100\n",
            "128/128 [==============================] - ETA: 0s - loss: 0.6507 - accuracy: 0.6035\n",
            "Epoch 89: val_accuracy did not improve from 0.56445\n",
            "128/128 [==============================] - 31s 244ms/step - loss: 0.6507 - accuracy: 0.6035 - val_loss: 1.1456 - val_accuracy: 0.3750\n",
            "Epoch 90/100\n",
            "128/128 [==============================] - ETA: 0s - loss: 0.6203 - accuracy: 0.6206\n",
            "Epoch 90: val_accuracy did not improve from 0.56445\n",
            "128/128 [==============================] - 31s 243ms/step - loss: 0.6203 - accuracy: 0.6206 - val_loss: 0.9998 - val_accuracy: 0.4990\n",
            "Epoch 91/100\n",
            "128/128 [==============================] - ETA: 0s - loss: 0.6138 - accuracy: 0.6233\n",
            "Epoch 91: val_accuracy did not improve from 0.56445\n",
            "128/128 [==============================] - 31s 243ms/step - loss: 0.6138 - accuracy: 0.6233 - val_loss: 1.1155 - val_accuracy: 0.3857\n",
            "Epoch 92/100\n",
            "128/128 [==============================] - ETA: 0s - loss: 0.6433 - accuracy: 0.6138\n",
            "Epoch 92: val_accuracy did not improve from 0.56445\n",
            "128/128 [==============================] - 32s 249ms/step - loss: 0.6433 - accuracy: 0.6138 - val_loss: 1.1294 - val_accuracy: 0.3779\n",
            "Epoch 93/100\n",
            "128/128 [==============================] - ETA: 0s - loss: 0.6355 - accuracy: 0.6121\n",
            "Epoch 93: val_accuracy did not improve from 0.56445\n",
            "128/128 [==============================] - 31s 245ms/step - loss: 0.6355 - accuracy: 0.6121 - val_loss: 1.1126 - val_accuracy: 0.3857\n",
            "Epoch 94/100\n",
            "128/128 [==============================] - ETA: 0s - loss: 0.6241 - accuracy: 0.6208\n",
            "Epoch 94: val_accuracy did not improve from 0.56445\n",
            "128/128 [==============================] - 31s 243ms/step - loss: 0.6241 - accuracy: 0.6208 - val_loss: 1.0249 - val_accuracy: 0.4492\n",
            "Epoch 95/100\n",
            "128/128 [==============================] - ETA: 0s - loss: 0.6186 - accuracy: 0.6143\n",
            "Epoch 95: val_accuracy did not improve from 0.56445\n",
            "128/128 [==============================] - 33s 257ms/step - loss: 0.6186 - accuracy: 0.6143 - val_loss: 0.9750 - val_accuracy: 0.5010\n",
            "Epoch 96/100\n",
            "128/128 [==============================] - ETA: 0s - loss: 0.5993 - accuracy: 0.6331\n",
            "Epoch 96: val_accuracy did not improve from 0.56445\n",
            "128/128 [==============================] - 31s 245ms/step - loss: 0.5993 - accuracy: 0.6331 - val_loss: 0.9206 - val_accuracy: 0.5410\n",
            "Epoch 97/100\n",
            "128/128 [==============================] - ETA: 0s - loss: 0.6107 - accuracy: 0.6362\n",
            "Epoch 97: val_accuracy did not improve from 0.56445\n",
            "128/128 [==============================] - 31s 244ms/step - loss: 0.6107 - accuracy: 0.6362 - val_loss: 1.3470 - val_accuracy: 0.3076\n",
            "Epoch 98/100\n",
            "128/128 [==============================] - ETA: 0s - loss: 0.6279 - accuracy: 0.6243\n",
            "Epoch 98: val_accuracy did not improve from 0.56445\n",
            "128/128 [==============================] - 32s 249ms/step - loss: 0.6279 - accuracy: 0.6243 - val_loss: 1.0936 - val_accuracy: 0.4150\n",
            "Epoch 99/100\n",
            "128/128 [==============================] - ETA: 0s - loss: 0.6065 - accuracy: 0.6348\n",
            "Epoch 99: val_accuracy did not improve from 0.56445\n",
            "128/128 [==============================] - 32s 248ms/step - loss: 0.6065 - accuracy: 0.6348 - val_loss: 0.9514 - val_accuracy: 0.5273\n",
            "Epoch 100/100\n",
            "128/128 [==============================] - ETA: 0s - loss: 0.5986 - accuracy: 0.6406\n",
            "Epoch 100: val_accuracy did not improve from 0.56445\n",
            "128/128 [==============================] - 33s 253ms/step - loss: 0.5986 - accuracy: 0.6406 - val_loss: 1.0561 - val_accuracy: 0.4170\n"
          ]
        }
      ]
    },
    {
      "cell_type": "code",
      "source": [
        "test_loss, test_accuracy = model2.evaluate(test_images) # 1st"
      ],
      "metadata": {
        "id": "1RvK-BxghSJq",
        "colab": {
          "base_uri": "https://localhost:8080/"
        },
        "outputId": "b0d626a4-73bf-4bef-d318-275f9a06878f"
      },
      "execution_count": 21,
      "outputs": [
        {
          "output_type": "stream",
          "name": "stdout",
          "text": [
            "40/40 [==============================] - 4s 97ms/step - loss: 0.9238 - accuracy: 0.5500\n"
          ]
        }
      ]
    },
    {
      "cell_type": "code",
      "source": [
        "model2.evaluate(train_images) , model2.evaluate(validation_images) #1st"
      ],
      "metadata": {
        "id": "1l_SiiX2hSGj",
        "colab": {
          "base_uri": "https://localhost:8080/"
        },
        "outputId": "039cae14-56d3-44c0-ec9c-813df85d0320"
      },
      "execution_count": 22,
      "outputs": [
        {
          "output_type": "stream",
          "name": "stdout",
          "text": [
            "128/128 [==============================] - 14s 108ms/step - loss: 0.8948 - accuracy: 0.5659\n",
            "32/32 [==============================] - 3s 94ms/step - loss: 0.9137 - accuracy: 0.5713\n"
          ]
        },
        {
          "output_type": "execute_result",
          "data": {
            "text/plain": [
              "([0.8947915434837341, 0.56591796875], [0.9136548042297363, 0.5712890625])"
            ]
          },
          "metadata": {},
          "execution_count": 22
        }
      ]
    },
    {
      "cell_type": "code",
      "source": [
        "true_test_labels = test_images.classes\n",
        "test_pred = model3.predict(test_images)\n",
        "\n",
        "test_pred_classes = np.argmax(test_pred, axis=1)\n",
        "confusion_Matrix = confusion_matrix(true_test_labels, test_pred_classes)\n",
        "sns.heatmap(confusion_Matrix, annot=True, cmap='Blues',fmt='.3g')\n",
        "plt.xlabel('Predicted labels')\n",
        "plt.ylabel('True labels')\n",
        "plt.show()"
      ],
      "metadata": {
        "id": "dV0u3oYzhSB6"
      },
      "execution_count": null,
      "outputs": []
    },
    {
      "cell_type": "code",
      "source": [
        "test_report = classification_report(true_test_labels, test_pred_classes)\n",
        "print(test_report)"
      ],
      "metadata": {
        "id": "1ZgB_sK0isyf"
      },
      "execution_count": null,
      "outputs": []
    },
    {
      "cell_type": "code",
      "source": [
        "# try changing the batch size and use smaller models"
      ],
      "metadata": {
        "id": "OVfOOVsJitxW"
      },
      "execution_count": null,
      "outputs": []
    },
    {
      "cell_type": "code",
      "source": [],
      "metadata": {
        "id": "uOC5f2VriuYO"
      },
      "execution_count": null,
      "outputs": []
    },
    {
      "cell_type": "code",
      "source": [],
      "metadata": {
        "id": "sUZGpD60iuoe"
      },
      "execution_count": null,
      "outputs": []
    },
    {
      "cell_type": "code",
      "source": [],
      "metadata": {
        "id": "UpchbtVZiuzA"
      },
      "execution_count": null,
      "outputs": []
    },
    {
      "cell_type": "code",
      "source": [
        "# Model 3 vgg style multiple conv2d with activation"
      ],
      "metadata": {
        "id": "YXawYChi8Efn"
      },
      "execution_count": null,
      "outputs": []
    },
    {
      "cell_type": "code",
      "source": [
        "model3 = models.Sequential()\n",
        "model3.add(layers.Conv2D(128, (3, 3), padding='same', input_shape=(176, 176, 1)))\n",
        "model3.add(layers.MaxPooling2D(pool_size=(2, 2)))\n",
        "model3.add(BatchNormalization())\n",
        "model3.add(layers.Dropout(0.3))\n",
        "model3.add(layers.Activation(\"relu\"))\n",
        "model3.add(layers.Conv2D(64,(3, 3),  padding='same'))\n",
        "model3.add(layers.MaxPooling2D(pool_size=(2, 2)))\n",
        "model3.add(BatchNormalization())\n",
        "model3.add(layers.Dropout(0.3))\n",
        "model3.add(layers.Activation(\"relu\"))\n",
        "model3.add(layers.Conv2D(32,(3, 3),  padding='same'))\n",
        "model3.add(layers.MaxPooling2D(pool_size=(2, 2)))\n",
        "model3.add(BatchNormalization())\n",
        "model3.add(layers.Dropout(0.3))\n",
        "model3.add(layers.Activation(\"relu\"))\n",
        "model3.add(layers.Conv2D(16,(3, 3),  padding='same'))\n",
        "model3.add(layers.MaxPooling2D(pool_size=(2, 2)))\n",
        "model3.add(BatchNormalization())\n",
        "model3.add(layers.Dropout(0.3))\n",
        "model3.add(layers.Activation(\"relu\"))\n",
        "model3.add(layers.Flatten())\n",
        "model3.add(layers.Dense(512))\n",
        "model3.add(layers.Dropout(0.3))\n",
        "model3.add(layers.Dense(4, activation='softmax'))\n",
        "model3.compile(optimizer='adam',loss=\"categorical_crossentropy\",metrics=[\"accuracy\"])"
      ],
      "metadata": {
        "id": "5H2cyAOtdtKF"
      },
      "execution_count": null,
      "outputs": []
    },
    {
      "cell_type": "code",
      "source": [],
      "metadata": {
        "id": "vbNg369OjSBV"
      },
      "execution_count": null,
      "outputs": []
    },
    {
      "cell_type": "code",
      "source": [
        "model3.summary()"
      ],
      "metadata": {
        "id": "SYPeMK3-jSV_"
      },
      "execution_count": null,
      "outputs": []
    },
    {
      "cell_type": "code",
      "source": [
        "model3.load_weights('/content/shuffled_model3_1.h5')"
      ],
      "metadata": {
        "id": "30Mq_87ejSWC"
      },
      "execution_count": null,
      "outputs": []
    },
    {
      "cell_type": "code",
      "source": [
        "model_checkpoint = ModelCheckpoint('shuffled_model3_1.h5', save_best_only=True, save_weights_only=True, monitor='val_accuracy', mode='max', verbose=2)\n",
        "history3 = model3.fit(train_images, validation_data=validation_images ,callbacks=[model_checkpoint], class_weight=class_weights_dict , epochs= 100)"
      ],
      "metadata": {
        "id": "nIjLM5zDjSWC"
      },
      "execution_count": null,
      "outputs": []
    },
    {
      "cell_type": "code",
      "source": [
        "test_loss, test_accuracy = model3.evaluate(test_images) # 1st"
      ],
      "metadata": {
        "id": "kEyzxIV4jSWD"
      },
      "execution_count": null,
      "outputs": []
    },
    {
      "cell_type": "code",
      "source": [
        "model3.evaluate(train_images) , model3.evaluate(validation_images) #1st"
      ],
      "metadata": {
        "id": "nw_Dg6QljSWD"
      },
      "execution_count": null,
      "outputs": []
    },
    {
      "cell_type": "code",
      "source": [
        "true_test_labels = test_images.classes\n",
        "test_pred = model3.predict(test_images)\n",
        "\n",
        "test_pred_classes = np.argmax(test_pred, axis=1)\n",
        "confusion_Matrix = confusion_matrix(true_test_labels, test_pred_classes)\n",
        "sns.heatmap(confusion_Matrix, annot=True, cmap='Blues',fmt='.3g')\n",
        "plt.xlabel('Predicted labels')\n",
        "plt.ylabel('True labels')\n",
        "plt.show()"
      ],
      "metadata": {
        "id": "RBvWl31RjSWE"
      },
      "execution_count": null,
      "outputs": []
    },
    {
      "cell_type": "code",
      "source": [
        "test_report = classification_report(true_test_labels, test_pred_classes)\n",
        "print(test_report)"
      ],
      "metadata": {
        "id": "ENRJZto2jSWE"
      },
      "execution_count": null,
      "outputs": []
    },
    {
      "cell_type": "code",
      "source": [],
      "metadata": {
        "id": "VAXm_5FDrC8c"
      },
      "execution_count": null,
      "outputs": []
    },
    {
      "cell_type": "code",
      "source": [],
      "metadata": {
        "id": "_Azh6sxcrC5-"
      },
      "execution_count": null,
      "outputs": []
    },
    {
      "cell_type": "code",
      "source": [],
      "metadata": {
        "id": "yfkOG71prC3l"
      },
      "execution_count": null,
      "outputs": []
    },
    {
      "cell_type": "code",
      "source": [],
      "metadata": {
        "id": "P29H4vt4rC01"
      },
      "execution_count": null,
      "outputs": []
    },
    {
      "cell_type": "code",
      "source": [
        "# Simple model-4 , with less layers"
      ],
      "metadata": {
        "id": "NUrwDLPWrCdY"
      },
      "execution_count": null,
      "outputs": []
    },
    {
      "cell_type": "code",
      "source": [
        "model4 = models.Sequential()\n",
        "model4.add(layers.Conv2D(128, (3, 3), padding='same',activation ='relu', input_shape=(176, 176, 1)))\n",
        "model4.add(layers.MaxPooling2D(pool_size=(2, 2)))\n",
        "model4.add(BatchNormalization())\n",
        "model4.add(layers.Dropout(0.2))\n",
        "model4.add(layers.Conv2D(64,(3, 3),  padding='same',activation ='relu'))\n",
        "model4.add(layers.MaxPooling2D(pool_size=(2, 2)))\n",
        "model4.add(BatchNormalization())\n",
        "model4.add(layers.Flatten())\n",
        "model4.add(layers.Dense(512, activation='relu'))\n",
        "model4.add(layers.Dropout(0.2))\n",
        "model4.add(layers.Dense(256, activation= 'relu'))\n",
        "model4.add(BatchNormalization())\n",
        "model4.add(layers.Dropout(0.2))\n",
        "model4.add(layers.Dense(4, activation='softmax'))\n",
        "model4.compile(optimizer= optimizers.Adam(0.001),loss=\"categorical_crossentropy\",metrics=[\"accuracy\"])"
      ],
      "metadata": {
        "id": "lEEqsxC7SJgu"
      },
      "execution_count": 17,
      "outputs": []
    },
    {
      "cell_type": "code",
      "source": [
        "model4.summary()"
      ],
      "metadata": {
        "colab": {
          "base_uri": "https://localhost:8080/"
        },
        "id": "lceh2aXItDkI",
        "outputId": "8e0404fd-2992-4c1c-9285-ab0fc57889e1"
      },
      "execution_count": 18,
      "outputs": [
        {
          "output_type": "stream",
          "name": "stdout",
          "text": [
            "Model: \"sequential\"\n",
            "_________________________________________________________________\n",
            " Layer (type)                Output Shape              Param #   \n",
            "=================================================================\n",
            " conv2d (Conv2D)             (None, 176, 176, 128)     1280      \n",
            "                                                                 \n",
            " max_pooling2d (MaxPooling2  (None, 88, 88, 128)       0         \n",
            " D)                                                              \n",
            "                                                                 \n",
            " batch_normalization (Batch  (None, 88, 88, 128)       512       \n",
            " Normalization)                                                  \n",
            "                                                                 \n",
            " dropout (Dropout)           (None, 88, 88, 128)       0         \n",
            "                                                                 \n",
            " conv2d_1 (Conv2D)           (None, 88, 88, 64)        73792     \n",
            "                                                                 \n",
            " max_pooling2d_1 (MaxPoolin  (None, 44, 44, 64)        0         \n",
            " g2D)                                                            \n",
            "                                                                 \n",
            " batch_normalization_1 (Bat  (None, 44, 44, 64)        256       \n",
            " chNormalization)                                                \n",
            "                                                                 \n",
            " flatten (Flatten)           (None, 123904)            0         \n",
            "                                                                 \n",
            " dense (Dense)               (None, 512)               63439360  \n",
            "                                                                 \n",
            " dropout_1 (Dropout)         (None, 512)               0         \n",
            "                                                                 \n",
            " dense_1 (Dense)             (None, 256)               131328    \n",
            "                                                                 \n",
            " batch_normalization_2 (Bat  (None, 256)               1024      \n",
            " chNormalization)                                                \n",
            "                                                                 \n",
            " dropout_2 (Dropout)         (None, 256)               0         \n",
            "                                                                 \n",
            " dense_2 (Dense)             (None, 4)                 1028      \n",
            "                                                                 \n",
            "=================================================================\n",
            "Total params: 63648580 (242.80 MB)\n",
            "Trainable params: 63647684 (242.80 MB)\n",
            "Non-trainable params: 896 (3.50 KB)\n",
            "_________________________________________________________________\n"
          ]
        }
      ]
    },
    {
      "cell_type": "code",
      "source": [
        "model4.load_weights('/content/shuffled_model4_1-3.h5')"
      ],
      "metadata": {
        "id": "O0K0lk7f1WGD"
      },
      "execution_count": 43,
      "outputs": []
    },
    {
      "cell_type": "code",
      "source": [
        "model_checkpoint = ModelCheckpoint('shuffled_model4_1-3.h5', save_best_only=True, save_weights_only=True, monitor='val_accuracy', mode='max', verbose=2)\n",
        "history4 = model4.fit(train_images, validation_data=validation_images ,callbacks=[model_checkpoint] ,class_weight= class_weights_dict, epochs= 60)"
      ],
      "metadata": {
        "colab": {
          "base_uri": "https://localhost:8080/"
        },
        "id": "wxeEa3q_tmN3",
        "outputId": "cafd08ee-59da-46d5-a26f-b6ce2ba7ff49"
      },
      "execution_count": 42,
      "outputs": [
        {
          "output_type": "stream",
          "name": "stdout",
          "text": [
            "Epoch 1/60\n",
            "256/256 [==============================] - ETA: 0s - loss: 0.3331 - accuracy: 0.8096\n",
            "Epoch 1: val_accuracy improved from -inf to 0.80078, saving model to shuffled_model4_1-3.h5\n",
            "256/256 [==============================] - 29s 113ms/step - loss: 0.3331 - accuracy: 0.8096 - val_loss: 0.4674 - val_accuracy: 0.8008\n",
            "Epoch 2/60\n",
            "256/256 [==============================] - ETA: 0s - loss: 0.3232 - accuracy: 0.8052\n",
            "Epoch 2: val_accuracy did not improve from 0.80078\n",
            "256/256 [==============================] - 28s 110ms/step - loss: 0.3232 - accuracy: 0.8052 - val_loss: 0.6544 - val_accuracy: 0.7188\n",
            "Epoch 3/60\n",
            "256/256 [==============================] - ETA: 0s - loss: 0.3121 - accuracy: 0.8103\n",
            "Epoch 3: val_accuracy did not improve from 0.80078\n",
            "256/256 [==============================] - 28s 110ms/step - loss: 0.3121 - accuracy: 0.8103 - val_loss: 0.6881 - val_accuracy: 0.7100\n",
            "Epoch 4/60\n",
            "256/256 [==============================] - ETA: 0s - loss: 0.3125 - accuracy: 0.8171\n",
            "Epoch 4: val_accuracy did not improve from 0.80078\n",
            "256/256 [==============================] - 27s 104ms/step - loss: 0.3125 - accuracy: 0.8171 - val_loss: 0.5165 - val_accuracy: 0.7783\n",
            "Epoch 5/60\n",
            "256/256 [==============================] - ETA: 0s - loss: 0.2972 - accuracy: 0.8198\n",
            "Epoch 5: val_accuracy did not improve from 0.80078\n",
            "256/256 [==============================] - 27s 106ms/step - loss: 0.2972 - accuracy: 0.8198 - val_loss: 0.5725 - val_accuracy: 0.7549\n",
            "Epoch 6/60\n",
            "256/256 [==============================] - ETA: 0s - loss: 0.5813 - accuracy: 0.7131\n",
            "Epoch 6: val_accuracy did not improve from 0.80078\n",
            "256/256 [==============================] - 27s 107ms/step - loss: 0.5813 - accuracy: 0.7131 - val_loss: 1.5622 - val_accuracy: 0.5654\n",
            "Epoch 7/60\n",
            "256/256 [==============================] - ETA: 0s - loss: 0.5645 - accuracy: 0.7026\n",
            "Epoch 7: val_accuracy did not improve from 0.80078\n",
            "256/256 [==============================] - 28s 108ms/step - loss: 0.5645 - accuracy: 0.7026 - val_loss: 0.7503 - val_accuracy: 0.6826\n",
            "Epoch 8/60\n",
            "256/256 [==============================] - ETA: 0s - loss: 0.4165 - accuracy: 0.7798\n",
            "Epoch 8: val_accuracy did not improve from 0.80078\n",
            "256/256 [==============================] - 26s 101ms/step - loss: 0.4165 - accuracy: 0.7798 - val_loss: 0.6084 - val_accuracy: 0.7344\n",
            "Epoch 9/60\n",
            "256/256 [==============================] - ETA: 0s - loss: 0.3195 - accuracy: 0.8081\n",
            "Epoch 9: val_accuracy did not improve from 0.80078\n",
            "256/256 [==============================] - 27s 107ms/step - loss: 0.3195 - accuracy: 0.8081 - val_loss: 0.5063 - val_accuracy: 0.7783\n",
            "Epoch 10/60\n",
            "256/256 [==============================] - ETA: 0s - loss: 0.3024 - accuracy: 0.8201\n",
            "Epoch 10: val_accuracy did not improve from 0.80078\n",
            "256/256 [==============================] - 28s 107ms/step - loss: 0.3024 - accuracy: 0.8201 - val_loss: 0.5079 - val_accuracy: 0.7783\n",
            "Epoch 11/60\n",
            "256/256 [==============================] - ETA: 0s - loss: 0.3313 - accuracy: 0.8096\n",
            "Epoch 11: val_accuracy did not improve from 0.80078\n",
            "256/256 [==============================] - 26s 102ms/step - loss: 0.3313 - accuracy: 0.8096 - val_loss: 0.5489 - val_accuracy: 0.7568\n",
            "Epoch 12/60\n",
            "256/256 [==============================] - ETA: 0s - loss: 0.3341 - accuracy: 0.8191\n",
            "Epoch 12: val_accuracy improved from 0.80078 to 0.80469, saving model to shuffled_model4_1-3.h5\n",
            "256/256 [==============================] - 27s 105ms/step - loss: 0.3341 - accuracy: 0.8191 - val_loss: 0.4486 - val_accuracy: 0.8047\n",
            "Epoch 13/60\n",
            "256/256 [==============================] - ETA: 0s - loss: 0.2778 - accuracy: 0.8333\n",
            "Epoch 13: val_accuracy did not improve from 0.80469\n",
            "256/256 [==============================] - 27s 103ms/step - loss: 0.2778 - accuracy: 0.8333 - val_loss: 0.5240 - val_accuracy: 0.7744\n",
            "Epoch 14/60\n",
            "256/256 [==============================] - ETA: 0s - loss: 0.3181 - accuracy: 0.8289\n",
            "Epoch 14: val_accuracy did not improve from 0.80469\n",
            "256/256 [==============================] - 27s 105ms/step - loss: 0.3181 - accuracy: 0.8289 - val_loss: 0.5467 - val_accuracy: 0.7861\n",
            "Epoch 15/60\n",
            "256/256 [==============================] - ETA: 0s - loss: 0.3095 - accuracy: 0.8293\n",
            "Epoch 15: val_accuracy did not improve from 0.80469\n",
            "256/256 [==============================] - 28s 108ms/step - loss: 0.3095 - accuracy: 0.8293 - val_loss: 0.4634 - val_accuracy: 0.7881\n",
            "Epoch 16/60\n",
            "256/256 [==============================] - ETA: 0s - loss: 0.3380 - accuracy: 0.8240\n",
            "Epoch 16: val_accuracy did not improve from 0.80469\n",
            "256/256 [==============================] - 26s 100ms/step - loss: 0.3380 - accuracy: 0.8240 - val_loss: 0.4750 - val_accuracy: 0.7812\n",
            "Epoch 17/60\n",
            "256/256 [==============================] - ETA: 0s - loss: 0.4231 - accuracy: 0.7764\n",
            "Epoch 17: val_accuracy did not improve from 0.80469\n",
            "256/256 [==============================] - 26s 101ms/step - loss: 0.4231 - accuracy: 0.7764 - val_loss: 0.6735 - val_accuracy: 0.7158\n",
            "Epoch 18/60\n",
            "256/256 [==============================] - ETA: 0s - loss: 0.3090 - accuracy: 0.8171\n",
            "Epoch 18: val_accuracy did not improve from 0.80469\n",
            "256/256 [==============================] - 27s 106ms/step - loss: 0.3090 - accuracy: 0.8171 - val_loss: 0.4748 - val_accuracy: 0.7871\n",
            "Epoch 19/60\n",
            "256/256 [==============================] - ETA: 0s - loss: 0.2735 - accuracy: 0.8376\n",
            "Epoch 19: val_accuracy improved from 0.80469 to 0.81348, saving model to shuffled_model4_1-3.h5\n",
            "256/256 [==============================] - 29s 111ms/step - loss: 0.2735 - accuracy: 0.8376 - val_loss: 0.4501 - val_accuracy: 0.8135\n",
            "Epoch 20/60\n",
            "256/256 [==============================] - ETA: 0s - loss: 0.2820 - accuracy: 0.8359\n",
            "Epoch 20: val_accuracy did not improve from 0.81348\n",
            "256/256 [==============================] - 26s 102ms/step - loss: 0.2820 - accuracy: 0.8359 - val_loss: 0.5352 - val_accuracy: 0.7881\n",
            "Epoch 21/60\n",
            "256/256 [==============================] - ETA: 0s - loss: 0.2820 - accuracy: 0.8376\n",
            "Epoch 21: val_accuracy did not improve from 0.81348\n",
            "256/256 [==============================] - 26s 101ms/step - loss: 0.2820 - accuracy: 0.8376 - val_loss: 0.4406 - val_accuracy: 0.8115\n",
            "Epoch 22/60\n",
            "256/256 [==============================] - ETA: 0s - loss: 0.2788 - accuracy: 0.8394\n",
            "Epoch 22: val_accuracy did not improve from 0.81348\n",
            "256/256 [==============================] - 27s 106ms/step - loss: 0.2788 - accuracy: 0.8394 - val_loss: 0.5639 - val_accuracy: 0.7803\n",
            "Epoch 23/60\n",
            "256/256 [==============================] - ETA: 0s - loss: 0.3019 - accuracy: 0.8416\n",
            "Epoch 23: val_accuracy did not improve from 0.81348\n",
            "256/256 [==============================] - 28s 110ms/step - loss: 0.3019 - accuracy: 0.8416 - val_loss: 1.6629 - val_accuracy: 0.5654\n",
            "Epoch 24/60\n",
            "256/256 [==============================] - ETA: 0s - loss: 0.3014 - accuracy: 0.8479\n",
            "Epoch 24: val_accuracy did not improve from 0.81348\n",
            "256/256 [==============================] - 28s 110ms/step - loss: 0.3014 - accuracy: 0.8479 - val_loss: 0.5219 - val_accuracy: 0.7793\n",
            "Epoch 25/60\n",
            "256/256 [==============================] - ETA: 0s - loss: 0.3270 - accuracy: 0.8352\n",
            "Epoch 25: val_accuracy did not improve from 0.81348\n",
            "256/256 [==============================] - 27s 104ms/step - loss: 0.3270 - accuracy: 0.8352 - val_loss: 0.5869 - val_accuracy: 0.7422\n",
            "Epoch 26/60\n",
            "256/256 [==============================] - ETA: 0s - loss: 0.3007 - accuracy: 0.8340\n",
            "Epoch 26: val_accuracy did not improve from 0.81348\n",
            "256/256 [==============================] - 27s 105ms/step - loss: 0.3007 - accuracy: 0.8340 - val_loss: 0.6522 - val_accuracy: 0.7588\n",
            "Epoch 27/60\n",
            "256/256 [==============================] - ETA: 0s - loss: 0.2866 - accuracy: 0.8335\n",
            "Epoch 27: val_accuracy did not improve from 0.81348\n",
            "256/256 [==============================] - 28s 108ms/step - loss: 0.2866 - accuracy: 0.8335 - val_loss: 0.4349 - val_accuracy: 0.7988\n",
            "Epoch 28/60\n",
            "256/256 [==============================] - ETA: 0s - loss: 0.3317 - accuracy: 0.8320\n",
            "Epoch 28: val_accuracy did not improve from 0.81348\n",
            "256/256 [==============================] - 26s 103ms/step - loss: 0.3317 - accuracy: 0.8320 - val_loss: 0.4884 - val_accuracy: 0.8047\n",
            "Epoch 29/60\n",
            "256/256 [==============================] - ETA: 0s - loss: 0.2874 - accuracy: 0.8384\n",
            "Epoch 29: val_accuracy did not improve from 0.81348\n",
            "256/256 [==============================] - 26s 100ms/step - loss: 0.2874 - accuracy: 0.8384 - val_loss: 0.4963 - val_accuracy: 0.7861\n",
            "Epoch 30/60\n",
            "256/256 [==============================] - ETA: 0s - loss: 0.2819 - accuracy: 0.8413\n",
            "Epoch 30: val_accuracy did not improve from 0.81348\n",
            "256/256 [==============================] - 27s 104ms/step - loss: 0.2819 - accuracy: 0.8413 - val_loss: 0.6938 - val_accuracy: 0.7256\n",
            "Epoch 31/60\n",
            "256/256 [==============================] - ETA: 0s - loss: 0.2812 - accuracy: 0.8486\n",
            "Epoch 31: val_accuracy did not improve from 0.81348\n",
            "256/256 [==============================] - 27s 105ms/step - loss: 0.2812 - accuracy: 0.8486 - val_loss: 0.4434 - val_accuracy: 0.8057\n",
            "Epoch 32/60\n",
            "256/256 [==============================] - ETA: 0s - loss: 0.2691 - accuracy: 0.8506\n",
            "Epoch 32: val_accuracy improved from 0.81348 to 0.82324, saving model to shuffled_model4_1-3.h5\n",
            "256/256 [==============================] - 30s 116ms/step - loss: 0.2691 - accuracy: 0.8506 - val_loss: 0.4117 - val_accuracy: 0.8232\n",
            "Epoch 33/60\n",
            "256/256 [==============================] - ETA: 0s - loss: 0.3141 - accuracy: 0.8347\n",
            "Epoch 33: val_accuracy did not improve from 0.82324\n",
            "256/256 [==============================] - 28s 110ms/step - loss: 0.3141 - accuracy: 0.8347 - val_loss: 0.9853 - val_accuracy: 0.6807\n",
            "Epoch 34/60\n",
            "256/256 [==============================] - ETA: 0s - loss: 0.2515 - accuracy: 0.8523\n",
            "Epoch 34: val_accuracy improved from 0.82324 to 0.82715, saving model to shuffled_model4_1-3.h5\n",
            "256/256 [==============================] - 27s 105ms/step - loss: 0.2515 - accuracy: 0.8523 - val_loss: 0.4157 - val_accuracy: 0.8271\n",
            "Epoch 35/60\n",
            "256/256 [==============================] - ETA: 0s - loss: 0.2593 - accuracy: 0.8481\n",
            "Epoch 35: val_accuracy did not improve from 0.82715\n",
            "256/256 [==============================] - 27s 105ms/step - loss: 0.2593 - accuracy: 0.8481 - val_loss: 0.4752 - val_accuracy: 0.7969\n",
            "Epoch 36/60\n",
            "256/256 [==============================] - ETA: 0s - loss: 0.3288 - accuracy: 0.8311\n",
            "Epoch 36: val_accuracy did not improve from 0.82715\n",
            "256/256 [==============================] - 27s 107ms/step - loss: 0.3288 - accuracy: 0.8311 - val_loss: 0.4745 - val_accuracy: 0.8086\n",
            "Epoch 37/60\n",
            "256/256 [==============================] - ETA: 0s - loss: 0.3052 - accuracy: 0.8311\n",
            "Epoch 37: val_accuracy did not improve from 0.82715\n",
            "256/256 [==============================] - 28s 110ms/step - loss: 0.3052 - accuracy: 0.8311 - val_loss: 0.4888 - val_accuracy: 0.7861\n",
            "Epoch 38/60\n",
            "256/256 [==============================] - ETA: 0s - loss: 0.2738 - accuracy: 0.8430\n",
            "Epoch 38: val_accuracy did not improve from 0.82715\n",
            "256/256 [==============================] - 26s 102ms/step - loss: 0.2738 - accuracy: 0.8430 - val_loss: 0.5580 - val_accuracy: 0.7402\n",
            "Epoch 39/60\n",
            "256/256 [==============================] - ETA: 0s - loss: 0.2893 - accuracy: 0.8584\n",
            "Epoch 39: val_accuracy did not improve from 0.82715\n",
            "256/256 [==============================] - 27s 105ms/step - loss: 0.2893 - accuracy: 0.8584 - val_loss: 0.4834 - val_accuracy: 0.7998\n",
            "Epoch 40/60\n",
            "256/256 [==============================] - ETA: 0s - loss: 0.2508 - accuracy: 0.8584\n",
            "Epoch 40: val_accuracy did not improve from 0.82715\n",
            "256/256 [==============================] - 28s 108ms/step - loss: 0.2508 - accuracy: 0.8584 - val_loss: 0.4430 - val_accuracy: 0.7930\n",
            "Epoch 41/60\n",
            "256/256 [==============================] - ETA: 0s - loss: 0.2578 - accuracy: 0.8542\n",
            "Epoch 41: val_accuracy did not improve from 0.82715\n",
            "256/256 [==============================] - 28s 110ms/step - loss: 0.2578 - accuracy: 0.8542 - val_loss: 0.7074 - val_accuracy: 0.7461\n",
            "Epoch 42/60\n",
            "256/256 [==============================] - ETA: 0s - loss: 0.2769 - accuracy: 0.8528\n",
            "Epoch 42: val_accuracy did not improve from 0.82715\n",
            "256/256 [==============================] - 26s 102ms/step - loss: 0.2769 - accuracy: 0.8528 - val_loss: 0.4404 - val_accuracy: 0.8164\n",
            "Epoch 43/60\n",
            "256/256 [==============================] - ETA: 0s - loss: 0.2486 - accuracy: 0.8582\n",
            "Epoch 43: val_accuracy improved from 0.82715 to 0.84277, saving model to shuffled_model4_1-3.h5\n",
            "256/256 [==============================] - 30s 116ms/step - loss: 0.2486 - accuracy: 0.8582 - val_loss: 0.3834 - val_accuracy: 0.8428\n",
            "Epoch 44/60\n",
            "256/256 [==============================] - ETA: 0s - loss: 0.2669 - accuracy: 0.8518\n",
            "Epoch 44: val_accuracy did not improve from 0.84277\n",
            "256/256 [==============================] - 28s 108ms/step - loss: 0.2669 - accuracy: 0.8518 - val_loss: 0.4571 - val_accuracy: 0.8096\n",
            "Epoch 45/60\n",
            "256/256 [==============================] - ETA: 0s - loss: 0.2437 - accuracy: 0.8662\n",
            "Epoch 45: val_accuracy did not improve from 0.84277\n",
            "256/256 [==============================] - 28s 110ms/step - loss: 0.2437 - accuracy: 0.8662 - val_loss: 0.4303 - val_accuracy: 0.8145\n",
            "Epoch 46/60\n",
            "256/256 [==============================] - ETA: 0s - loss: 0.2727 - accuracy: 0.8579\n",
            "Epoch 46: val_accuracy did not improve from 0.84277\n",
            "256/256 [==============================] - 26s 101ms/step - loss: 0.2727 - accuracy: 0.8579 - val_loss: 0.4680 - val_accuracy: 0.8125\n",
            "Epoch 47/60\n",
            "256/256 [==============================] - ETA: 0s - loss: 0.2384 - accuracy: 0.8694\n",
            "Epoch 47: val_accuracy did not improve from 0.84277\n",
            "256/256 [==============================] - 28s 108ms/step - loss: 0.2384 - accuracy: 0.8694 - val_loss: 0.5361 - val_accuracy: 0.7803\n",
            "Epoch 48/60\n",
            "256/256 [==============================] - ETA: 0s - loss: 0.2370 - accuracy: 0.8672\n",
            "Epoch 48: val_accuracy did not improve from 0.84277\n",
            "256/256 [==============================] - 28s 107ms/step - loss: 0.2370 - accuracy: 0.8672 - val_loss: 0.5276 - val_accuracy: 0.7686\n",
            "Epoch 49/60\n",
            "256/256 [==============================] - ETA: 0s - loss: 0.2477 - accuracy: 0.8599\n",
            "Epoch 49: val_accuracy did not improve from 0.84277\n",
            "256/256 [==============================] - 29s 112ms/step - loss: 0.2477 - accuracy: 0.8599 - val_loss: 0.5121 - val_accuracy: 0.8096\n",
            "Epoch 50/60\n",
            "256/256 [==============================] - ETA: 0s - loss: 0.2241 - accuracy: 0.8674\n",
            "Epoch 50: val_accuracy did not improve from 0.84277\n",
            "256/256 [==============================] - 26s 103ms/step - loss: 0.2241 - accuracy: 0.8674 - val_loss: 0.4549 - val_accuracy: 0.8174\n",
            "Epoch 51/60\n",
            "256/256 [==============================] - ETA: 0s - loss: 0.2547 - accuracy: 0.8542\n",
            "Epoch 51: val_accuracy did not improve from 0.84277\n",
            "256/256 [==============================] - 27s 105ms/step - loss: 0.2547 - accuracy: 0.8542 - val_loss: 0.7769 - val_accuracy: 0.7070\n",
            "Epoch 52/60\n",
            "256/256 [==============================] - ETA: 0s - loss: 0.2609 - accuracy: 0.8586\n",
            "Epoch 52: val_accuracy did not improve from 0.84277\n",
            "256/256 [==============================] - 28s 109ms/step - loss: 0.2609 - accuracy: 0.8586 - val_loss: 0.5661 - val_accuracy: 0.7734\n",
            "Epoch 53/60\n",
            "256/256 [==============================] - ETA: 0s - loss: 0.2416 - accuracy: 0.8711\n",
            "Epoch 53: val_accuracy did not improve from 0.84277\n",
            "256/256 [==============================] - 26s 100ms/step - loss: 0.2416 - accuracy: 0.8711 - val_loss: 0.4189 - val_accuracy: 0.8330\n",
            "Epoch 54/60\n",
            "256/256 [==============================] - ETA: 0s - loss: 0.2359 - accuracy: 0.8672\n",
            "Epoch 54: val_accuracy did not improve from 0.84277\n",
            "256/256 [==============================] - 26s 103ms/step - loss: 0.2359 - accuracy: 0.8672 - val_loss: 0.4818 - val_accuracy: 0.7998\n",
            "Epoch 55/60\n",
            "256/256 [==============================] - ETA: 0s - loss: 0.2600 - accuracy: 0.8628\n",
            "Epoch 55: val_accuracy did not improve from 0.84277\n",
            "256/256 [==============================] - 28s 109ms/step - loss: 0.2600 - accuracy: 0.8628 - val_loss: 0.7144 - val_accuracy: 0.7480\n",
            "Epoch 56/60\n",
            "256/256 [==============================] - ETA: 0s - loss: 0.2388 - accuracy: 0.8684\n",
            "Epoch 56: val_accuracy did not improve from 0.84277\n",
            "256/256 [==============================] - 27s 106ms/step - loss: 0.2388 - accuracy: 0.8684 - val_loss: 0.4785 - val_accuracy: 0.8027\n",
            "Epoch 57/60\n",
            "256/256 [==============================] - ETA: 0s - loss: 0.2622 - accuracy: 0.8582\n",
            "Epoch 57: val_accuracy did not improve from 0.84277\n",
            "256/256 [==============================] - 28s 109ms/step - loss: 0.2622 - accuracy: 0.8582 - val_loss: 0.4926 - val_accuracy: 0.8105\n",
            "Epoch 58/60\n",
            "256/256 [==============================] - ETA: 0s - loss: 0.2397 - accuracy: 0.8691\n",
            "Epoch 58: val_accuracy did not improve from 0.84277\n",
            "256/256 [==============================] - 26s 101ms/step - loss: 0.2397 - accuracy: 0.8691 - val_loss: 0.4293 - val_accuracy: 0.8174\n",
            "Epoch 59/60\n",
            "256/256 [==============================] - ETA: 0s - loss: 0.2554 - accuracy: 0.8538\n",
            "Epoch 59: val_accuracy did not improve from 0.84277\n",
            "256/256 [==============================] - 26s 102ms/step - loss: 0.2554 - accuracy: 0.8538 - val_loss: 0.4001 - val_accuracy: 0.8252\n",
            "Epoch 60/60\n",
            "256/256 [==============================] - ETA: 0s - loss: 0.2865 - accuracy: 0.8538\n",
            "Epoch 60: val_accuracy did not improve from 0.84277\n",
            "256/256 [==============================] - 27s 105ms/step - loss: 0.2865 - accuracy: 0.8538 - val_loss: 0.4704 - val_accuracy: 0.7900\n"
          ]
        }
      ]
    },
    {
      "cell_type": "code",
      "source": [
        "model4.evaluate(test_images)"
      ],
      "metadata": {
        "colab": {
          "base_uri": "https://localhost:8080/"
        },
        "id": "Pe7b4kiNt24a",
        "outputId": "a23455e5-1551-44c6-cf1b-b227bf6878b7"
      },
      "execution_count": 44,
      "outputs": [
        {
          "output_type": "stream",
          "name": "stdout",
          "text": [
            "80/80 [==============================] - 6s 75ms/step - loss: 0.4604 - accuracy: 0.8070\n"
          ]
        },
        {
          "output_type": "execute_result",
          "data": {
            "text/plain": [
              "[0.46044039726257324, 0.8070312738418579]"
            ]
          },
          "metadata": {},
          "execution_count": 44
        }
      ]
    },
    {
      "cell_type": "code",
      "source": [
        "model4.evaluate(train_images) , model4.evaluate(validation_images)"
      ],
      "metadata": {
        "colab": {
          "base_uri": "https://localhost:8080/"
        },
        "id": "eLAWM-L2xYg0",
        "outputId": "bdbc42c2-fd5c-440e-f51e-4f7569e631d6"
      },
      "execution_count": 45,
      "outputs": [
        {
          "output_type": "stream",
          "name": "stdout",
          "text": [
            "256/256 [==============================] - 15s 57ms/step - loss: 0.2370 - accuracy: 0.8970\n",
            "64/64 [==============================] - 3s 49ms/step - loss: 0.3977 - accuracy: 0.8340\n"
          ]
        },
        {
          "output_type": "execute_result",
          "data": {
            "text/plain": [
              "([0.23701004683971405, 0.89697265625], [0.3976980447769165, 0.833984375])"
            ]
          },
          "metadata": {},
          "execution_count": 45
        }
      ]
    },
    {
      "cell_type": "code",
      "source": [],
      "metadata": {
        "id": "GkMExrUznR9j"
      },
      "execution_count": null,
      "outputs": []
    },
    {
      "cell_type": "code",
      "source": [
        "true_test_labels = test_images.classes\n",
        "test_pred = model4.predict(test_images)\n",
        "\n",
        "test_pred_classes = np.argmax(test_pred, axis=1)\n",
        "confusion_Matrix = confusion_matrix(true_test_labels, test_pred_classes)\n",
        "sns.heatmap(confusion_Matrix, annot=True, cmap='Blues',fmt='.3g')\n",
        "plt.xlabel('Predicted labels')\n",
        "plt.ylabel('True labels')\n",
        "plt.show()"
      ],
      "metadata": {
        "colab": {
          "base_uri": "https://localhost:8080/",
          "height": 466
        },
        "id": "kAevJ62rUG90",
        "outputId": "1a3eb376-80d2-40db-b982-6e8db06f1fd1"
      },
      "execution_count": 46,
      "outputs": [
        {
          "output_type": "stream",
          "name": "stdout",
          "text": [
            "80/80 [==============================] - 4s 46ms/step\n"
          ]
        },
        {
          "output_type": "display_data",
          "data": {
            "text/plain": [
              "<Figure size 640x480 with 2 Axes>"
            ],
            "image/png": "[encoded data removed]"
          },
          "metadata": {}
        }
      ]
    },
    {
      "cell_type": "code",
      "source": [
        "test_report = classification_report(true_test_labels, test_pred_classes)\n",
        "print(test_report)"
      ],
      "metadata": {
        "colab": {
          "base_uri": "https://localhost:8080/"
        },
        "id": "I1fiLLf2UbTq",
        "outputId": "49f035a1-4183-4754-cfbe-732c4aa20458"
      },
      "execution_count": 48,
      "outputs": [
        {
          "output_type": "stream",
          "name": "stdout",
          "text": [
            "              precision    recall  f1-score   support\n",
            "\n",
            "           0       0.13      0.16      0.15       201\n",
            "           1       0.00      0.00      0.00         6\n",
            "           2       0.49      0.45      0.47       643\n",
            "           3       0.33      0.32      0.32       430\n",
            "\n",
            "    accuracy                           0.36      1280\n",
            "   macro avg       0.24      0.23      0.23      1280\n",
            "weighted avg       0.37      0.36      0.37      1280\n",
            "\n"
          ]
        }
      ]
    },
    {
      "cell_type": "code",
      "source": [],
      "metadata": {
        "id": "rQvAf28uUm19"
      },
      "execution_count": null,
      "outputs": []
    }
  ]
}